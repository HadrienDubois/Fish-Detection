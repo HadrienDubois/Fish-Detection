{
 "cells": [
  {
   "cell_type": "code",
   "execution_count": 1,
   "metadata": {},
   "outputs": [
    {
     "name": "stdout",
     "output_type": "stream",
     "text": [
      "Requirement already satisfied: opencv-python in c:\\users\\hadrien\\desktop\\data science\\projects\\nemodetection\\tfod\\lib\\site-packages (4.6.0.66)\n",
      "Requirement already satisfied: numpy>=1.17.3 in c:\\users\\hadrien\\desktop\\data science\\projects\\nemodetection\\tfod\\lib\\site-packages (from opencv-python) (1.23.2)\n"
     ]
    }
   ],
   "source": [
    "!pip install opencv-python"
   ]
  },
  {
   "cell_type": "code",
   "execution_count": 2,
   "metadata": {},
   "outputs": [],
   "source": [
    "# Import opencv\n",
    "import cv2 \n",
    "\n",
    "# Import uuid\n",
    "import uuid\n",
    "\n",
    "# Import Operating System\n",
    "import os\n",
    "\n",
    "# Import time\n",
    "import time"
   ]
  },
  {
   "cell_type": "code",
   "execution_count": 3,
   "metadata": {},
   "outputs": [
    {
     "name": "stdout",
     "output_type": "stream",
     "text": [
      "Requirement already satisfied: pyqt5 in c:\\users\\hadrien\\desktop\\data science\\projects\\nemodetection\\tfod\\lib\\site-packages (5.15.7)\n",
      "Requirement already satisfied: lxml in c:\\users\\hadrien\\desktop\\data science\\projects\\nemodetection\\tfod\\lib\\site-packages (4.9.1)\n",
      "Requirement already satisfied: PyQt5-Qt5>=5.15.0 in c:\\users\\hadrien\\desktop\\data science\\projects\\nemodetection\\tfod\\lib\\site-packages (from pyqt5) (5.15.2)\n",
      "Requirement already satisfied: PyQt5-sip<13,>=12.11 in c:\\users\\hadrien\\desktop\\data science\\projects\\nemodetection\\tfod\\lib\\site-packages (from pyqt5) (12.11.0)\n"
     ]
    }
   ],
   "source": [
    "!pip install --upgrade pyqt5 lxml"
   ]
  },
  {
   "cell_type": "code",
   "execution_count": 4,
   "metadata": {},
   "outputs": [],
   "source": [
    "LABELIMG_PATH = os.path.join('Tensorflow', 'labelimg')"
   ]
  },
  {
   "cell_type": "code",
   "execution_count": 5,
   "metadata": {},
   "outputs": [
    {
     "name": "stderr",
     "output_type": "stream",
     "text": [
      "Cloning into 'Tensorflow\\labelimg'...\n"
     ]
    }
   ],
   "source": [
    "if not os.path.exists(LABELIMG_PATH):\n",
    "    !mkdir {LABELIMG_PATH}\n",
    "    !git clone https://github.com/tzutalin/labelImg {LABELIMG_PATH}"
   ]
  },
  {
   "cell_type": "code",
   "execution_count": 6,
   "metadata": {},
   "outputs": [],
   "source": [
    "if os.name == 'posix':\n",
    "    !make qt5py3\n",
    "if os.name =='nt':\n",
    "    !cd {LABELIMG_PATH} && pyrcc5 -o libs/resources.py resources.qrc"
   ]
  },
  {
   "cell_type": "code",
   "execution_count": 7,
   "metadata": {},
   "outputs": [
    {
     "name": "stdout",
     "output_type": "stream",
     "text": [
      "Image:C:\\Users\\Hadrien\\Desktop\\Data Science\\Projects\\NemoDetection\\Tensorflow\\Images_Data\\blue_tang\\flipped resized paracanthurushepatus0.jpeg -> Annotation:C:/Users/Hadrien/Desktop/Data Science/Projects/NemoDetection/Tensorflow/Images_Data/blue_tang\\flipped resized paracanthurushepatus0.xml\n",
      "Image:C:\\Users\\Hadrien\\Desktop\\Data Science\\Projects\\NemoDetection\\Tensorflow\\Images_Data\\blue_tang\\flipped resized paracanthurushepatus1.jpeg -> Annotation:C:/Users/Hadrien/Desktop/Data Science/Projects/NemoDetection/Tensorflow/Images_Data/blue_tang\\flipped resized paracanthurushepatus1.xml\n",
      "Image:C:\\Users\\Hadrien\\Desktop\\Data Science\\Projects\\NemoDetection\\Tensorflow\\Images_Data\\blue_tang\\flipped resized paracanthurushepatus2.jpeg -> Annotation:C:/Users/Hadrien/Desktop/Data Science/Projects/NemoDetection/Tensorflow/Images_Data/blue_tang\\flipped resized paracanthurushepatus2.xml\n",
      "Image:C:\\Users\\Hadrien\\Desktop\\Data Science\\Projects\\NemoDetection\\Tensorflow\\Images_Data\\blue_tang\\flipped resized paracanthurushepatus3.jpeg -> Annotation:C:/Users/Hadrien/Desktop/Data Science/Projects/NemoDetection/Tensorflow/Images_Data/blue_tang\\flipped resized paracanthurushepatus3.xml\n",
      "Image:C:\\Users\\Hadrien\\Desktop\\Data Science\\Projects\\NemoDetection\\Tensorflow\\Images_Data\\blue_tang\\flipped resized paracanthurushepatus4.jpeg -> Annotation:C:/Users/Hadrien/Desktop/Data Science/Projects/NemoDetection/Tensorflow/Images_Data/blue_tang\\flipped resized paracanthurushepatus4.xml\n",
      "Image:C:\\Users\\Hadrien\\Desktop\\Data Science\\Projects\\NemoDetection\\Tensorflow\\Images_Data\\blue_tang\\flipped resized paracanthurushepatus5.jpeg -> Annotation:C:/Users/Hadrien/Desktop/Data Science/Projects/NemoDetection/Tensorflow/Images_Data/blue_tang\\flipped resized paracanthurushepatus5.xml\n",
      "Image:C:\\Users\\Hadrien\\Desktop\\Data Science\\Projects\\NemoDetection\\Tensorflow\\Images_Data\\blue_tang\\flipped resized paracanthurushepatus6.jpeg -> Annotation:C:/Users/Hadrien/Desktop/Data Science/Projects/NemoDetection/Tensorflow/Images_Data/blue_tang\\flipped resized paracanthurushepatus6.xml\n",
      "Image:C:\\Users\\Hadrien\\Desktop\\Data Science\\Projects\\NemoDetection\\Tensorflow\\Images_Data\\blue_tang\\flipped resized paracanthurushepatus7.jpeg -> Annotation:C:/Users/Hadrien/Desktop/Data Science/Projects/NemoDetection/Tensorflow/Images_Data/blue_tang\\flipped resized paracanthurushepatus7.xml\n",
      "Image:C:\\Users\\Hadrien\\Desktop\\Data Science\\Projects\\NemoDetection\\Tensorflow\\Images_Data\\blue_tang\\flipped resized paracanthurushepatus8.jpeg -> Annotation:C:/Users/Hadrien/Desktop/Data Science/Projects/NemoDetection/Tensorflow/Images_Data/blue_tang\\flipped resized paracanthurushepatus8.xml\n",
      "Image:C:\\Users\\Hadrien\\Desktop\\Data Science\\Projects\\NemoDetection\\Tensorflow\\Images_Data\\blue_tang\\flipped resized paracanthurushepatus9.png -> Annotation:C:/Users/Hadrien/Desktop/Data Science/Projects/NemoDetection/Tensorflow/Images_Data/blue_tang\\flipped resized paracanthurushepatus9.xml\n",
      "Image:C:\\Users\\Hadrien\\Desktop\\Data Science\\Projects\\NemoDetection\\Tensorflow\\Images_Data\\blue_tang\\flipped resized paracanthurushepatus10.jpeg -> Annotation:C:/Users/Hadrien/Desktop/Data Science/Projects/NemoDetection/Tensorflow/Images_Data/blue_tang\\flipped resized paracanthurushepatus10.xml\n",
      "Image:C:\\Users\\Hadrien\\Desktop\\Data Science\\Projects\\NemoDetection\\Tensorflow\\Images_Data\\blue_tang\\flipped resized paracanthurushepatus13.jpeg -> Annotation:C:/Users/Hadrien/Desktop/Data Science/Projects/NemoDetection/Tensorflow/Images_Data/blue_tang\\flipped resized paracanthurushepatus13.xml\n",
      "Image:C:\\Users\\Hadrien\\Desktop\\Data Science\\Projects\\NemoDetection\\Tensorflow\\Images_Data\\blue_tang\\flipped resized paracanthurushepatus16.jpeg -> Annotation:C:/Users/Hadrien/Desktop/Data Science/Projects/NemoDetection/Tensorflow/Images_Data/blue_tang\\flipped resized paracanthurushepatus16.xml\n",
      "Image:C:\\Users\\Hadrien\\Desktop\\Data Science\\Projects\\NemoDetection\\Tensorflow\\Images_Data\\blue_tang\\flipped resized paracanthurushepatus18.jpeg -> Annotation:C:/Users/Hadrien/Desktop/Data Science/Projects/NemoDetection/Tensorflow/Images_Data/blue_tang\\flipped resized paracanthurushepatus18.xml\n",
      "Image:C:\\Users\\Hadrien\\Desktop\\Data Science\\Projects\\NemoDetection\\Tensorflow\\Images_Data\\blue_tang\\flipped resized paracanthurushepatus25.jpeg -> Annotation:C:/Users/Hadrien/Desktop/Data Science/Projects/NemoDetection/Tensorflow/Images_Data/blue_tang\\flipped resized paracanthurushepatus25.xml\n",
      "Image:C:\\Users\\Hadrien\\Desktop\\Data Science\\Projects\\NemoDetection\\Tensorflow\\Images_Data\\blue_tang\\flipped resized paracanthurushepatus26.jpeg -> Annotation:C:/Users/Hadrien/Desktop/Data Science/Projects/NemoDetection/Tensorflow/Images_Data/blue_tang\\flipped resized paracanthurushepatus26.xml\n",
      "Image:C:\\Users\\Hadrien\\Desktop\\Data Science\\Projects\\NemoDetection\\Tensorflow\\Images_Data\\blue_tang\\flipped resized paracanthurushepatus28.jpeg -> Annotation:C:/Users/Hadrien/Desktop/Data Science/Projects/NemoDetection/Tensorflow/Images_Data/blue_tang\\flipped resized paracanthurushepatus28.xml\n",
      "Image:C:\\Users\\Hadrien\\Desktop\\Data Science\\Projects\\NemoDetection\\Tensorflow\\Images_Data\\blue_tang\\flipped resized paracanthurushepatus32.jpeg -> Annotation:C:/Users/Hadrien/Desktop/Data Science/Projects/NemoDetection/Tensorflow/Images_Data/blue_tang\\flipped resized paracanthurushepatus32.xml\n",
      "Image:C:\\Users\\Hadrien\\Desktop\\Data Science\\Projects\\NemoDetection\\Tensorflow\\Images_Data\\blue_tang\\flipped resized paracanthurushepatus33.jpeg -> Annotation:C:/Users/Hadrien/Desktop/Data Science/Projects/NemoDetection/Tensorflow/Images_Data/blue_tang\\flipped resized paracanthurushepatus33.xml\n",
      "Image:C:\\Users\\Hadrien\\Desktop\\Data Science\\Projects\\NemoDetection\\Tensorflow\\Images_Data\\blue_tang\\flipped resized paracanthurushepatus40.jpeg -> Annotation:C:/Users/Hadrien/Desktop/Data Science/Projects/NemoDetection/Tensorflow/Images_Data/blue_tang\\flipped resized paracanthurushepatus40.xml\n",
      "Image:C:\\Users\\Hadrien\\Desktop\\Data Science\\Projects\\NemoDetection\\Tensorflow\\Images_Data\\blue_tang\\flipped resized paracanthurushepatus41.jpeg -> Annotation:C:/Users/Hadrien/Desktop/Data Science/Projects/NemoDetection/Tensorflow/Images_Data/blue_tang\\flipped resized paracanthurushepatus41.xml\n",
      "Image:C:\\Users\\Hadrien\\Desktop\\Data Science\\Projects\\NemoDetection\\Tensorflow\\Images_Data\\blue_tang\\flipped resized paracanthurushepatus51.jpeg -> Annotation:C:/Users/Hadrien/Desktop/Data Science/Projects/NemoDetection/Tensorflow/Images_Data/blue_tang\\flipped resized paracanthurushepatus51.xml\n",
      "Image:C:\\Users\\Hadrien\\Desktop\\Data Science\\Projects\\NemoDetection\\Tensorflow\\Images_Data\\blue_tang\\flipped resized paracanthurushepatus75.jpeg -> Annotation:C:/Users/Hadrien/Desktop/Data Science/Projects/NemoDetection/Tensorflow/Images_Data/blue_tang\\flipped resized paracanthurushepatus75.xml\n",
      "Image:C:\\Users\\Hadrien\\Desktop\\Data Science\\Projects\\NemoDetection\\Tensorflow\\Images_Data\\blue_tang\\flipped resized paracanthurushepatus76.jpeg -> Annotation:C:/Users/Hadrien/Desktop/Data Science/Projects/NemoDetection/Tensorflow/Images_Data/blue_tang\\flipped resized paracanthurushepatus76.xml\n",
      "Image:C:\\Users\\Hadrien\\Desktop\\Data Science\\Projects\\NemoDetection\\Tensorflow\\Images_Data\\blue_tang\\flipped resized paracanthurushepatus80.jpeg -> Annotation:C:/Users/Hadrien/Desktop/Data Science/Projects/NemoDetection/Tensorflow/Images_Data/blue_tang\\flipped resized paracanthurushepatus80.xml\n",
      "Image:C:\\Users\\Hadrien\\Desktop\\Data Science\\Projects\\NemoDetection\\Tensorflow\\Images_Data\\blue_tang\\flipped resized paracanthurushepatus82.jpeg -> Annotation:C:/Users/Hadrien/Desktop/Data Science/Projects/NemoDetection/Tensorflow/Images_Data/blue_tang\\flipped resized paracanthurushepatus82.xml\n",
      "Image:C:\\Users\\Hadrien\\Desktop\\Data Science\\Projects\\NemoDetection\\Tensorflow\\Images_Data\\blue_tang\\gray resized paracanthurushepatus0.jpeg -> Annotation:C:/Users/Hadrien/Desktop/Data Science/Projects/NemoDetection/Tensorflow/Images_Data/blue_tang\\gray resized paracanthurushepatus0.xml\n",
      "Image:C:\\Users\\Hadrien\\Desktop\\Data Science\\Projects\\NemoDetection\\Tensorflow\\Images_Data\\blue_tang\\gray resized paracanthurushepatus1.jpeg -> Annotation:C:/Users/Hadrien/Desktop/Data Science/Projects/NemoDetection/Tensorflow/Images_Data/blue_tang\\gray resized paracanthurushepatus1.xml\n",
      "Image:C:\\Users\\Hadrien\\Desktop\\Data Science\\Projects\\NemoDetection\\Tensorflow\\Images_Data\\blue_tang\\gray resized paracanthurushepatus2.jpeg -> Annotation:C:/Users/Hadrien/Desktop/Data Science/Projects/NemoDetection/Tensorflow/Images_Data/blue_tang\\gray resized paracanthurushepatus2.xml\n",
      "Image:C:\\Users\\Hadrien\\Desktop\\Data Science\\Projects\\NemoDetection\\Tensorflow\\Images_Data\\blue_tang\\gray resized paracanthurushepatus4.jpeg -> Annotation:C:/Users/Hadrien/Desktop/Data Science/Projects/NemoDetection/Tensorflow/Images_Data/blue_tang\\gray resized paracanthurushepatus4.xml\n",
      "Image:C:\\Users\\Hadrien\\Desktop\\Data Science\\Projects\\NemoDetection\\Tensorflow\\Images_Data\\blue_tang\\gray resized paracanthurushepatus10.jpeg -> Annotation:C:/Users/Hadrien/Desktop/Data Science/Projects/NemoDetection/Tensorflow/Images_Data/blue_tang\\gray resized paracanthurushepatus10.xml\n",
      "Image:C:\\Users\\Hadrien\\Desktop\\Data Science\\Projects\\NemoDetection\\Tensorflow\\Images_Data\\blue_tang\\gray resized paracanthurushepatus16.jpeg -> Annotation:C:/Users/Hadrien/Desktop/Data Science/Projects/NemoDetection/Tensorflow/Images_Data/blue_tang\\gray resized paracanthurushepatus16.xml\n",
      "Image:C:\\Users\\Hadrien\\Desktop\\Data Science\\Projects\\NemoDetection\\Tensorflow\\Images_Data\\blue_tang\\gray resized paracanthurushepatus26.jpeg -> Annotation:C:/Users/Hadrien/Desktop/Data Science/Projects/NemoDetection/Tensorflow/Images_Data/blue_tang\\gray resized paracanthurushepatus26.xml\n",
      "Image:C:\\Users\\Hadrien\\Desktop\\Data Science\\Projects\\NemoDetection\\Tensorflow\\Images_Data\\blue_tang\\resized paracanthurushepatus0.jpeg -> Annotation:C:/Users/Hadrien/Desktop/Data Science/Projects/NemoDetection/Tensorflow/Images_Data/blue_tang\\resized paracanthurushepatus0.xml\n",
      "Image:C:\\Users\\Hadrien\\Desktop\\Data Science\\Projects\\NemoDetection\\Tensorflow\\Images_Data\\blue_tang\\resized paracanthurushepatus1.jpeg -> Annotation:C:/Users/Hadrien/Desktop/Data Science/Projects/NemoDetection/Tensorflow/Images_Data/blue_tang\\resized paracanthurushepatus1.xml\n",
      "Image:C:\\Users\\Hadrien\\Desktop\\Data Science\\Projects\\NemoDetection\\Tensorflow\\Images_Data\\blue_tang\\resized paracanthurushepatus2.jpeg -> Annotation:C:/Users/Hadrien/Desktop/Data Science/Projects/NemoDetection/Tensorflow/Images_Data/blue_tang\\resized paracanthurushepatus2.xml\n",
      "Image:C:\\Users\\Hadrien\\Desktop\\Data Science\\Projects\\NemoDetection\\Tensorflow\\Images_Data\\blue_tang\\resized paracanthurushepatus9.png -> Annotation:C:/Users/Hadrien/Desktop/Data Science/Projects/NemoDetection/Tensorflow/Images_Data/blue_tang\\resized paracanthurushepatus9.xml\n",
      "Image:C:\\Users\\Hadrien\\Desktop\\Data Science\\Projects\\NemoDetection\\Tensorflow\\Images_Data\\blue_tang\\resized paracanthurushepatus10.jpeg -> Annotation:C:/Users/Hadrien/Desktop/Data Science/Projects/NemoDetection/Tensorflow/Images_Data/blue_tang\\resized paracanthurushepatus10.xml\n",
      "Image:C:\\Users\\Hadrien\\Desktop\\Data Science\\Projects\\NemoDetection\\Tensorflow\\Images_Data\\blue_tang\\resized paracanthurushepatus13.jpeg -> Annotation:C:/Users/Hadrien/Desktop/Data Science/Projects/NemoDetection/Tensorflow/Images_Data/blue_tang\\resized paracanthurushepatus13.xml\n",
      "Image:C:\\Users\\Hadrien\\Desktop\\Data Science\\Projects\\NemoDetection\\Tensorflow\\Images_Data\\blue_tang\\resized paracanthurushepatus16.jpeg -> Annotation:C:/Users/Hadrien/Desktop/Data Science/Projects/NemoDetection/Tensorflow/Images_Data/blue_tang\\resized paracanthurushepatus16.xml\n",
      "Image:C:\\Users\\Hadrien\\Desktop\\Data Science\\Projects\\NemoDetection\\Tensorflow\\Images_Data\\emperor_angel_fish\\flipped resized Pomacanthusimperatoradult0.jpeg -> Annotation:C:/Users/Hadrien/Desktop/Data Science/Projects/NemoDetection/Tensorflow/Images_Data/emperor_angel_fish\\flipped resized Pomacanthusimperatoradult0.xml\n",
      "Image:C:\\Users\\Hadrien\\Desktop\\Data Science\\Projects\\NemoDetection\\Tensorflow\\Images_Data\\emperor_angel_fish\\flipped resized Pomacanthusimperatoradult3.jpeg -> Annotation:C:/Users/Hadrien/Desktop/Data Science/Projects/NemoDetection/Tensorflow/Images_Data/emperor_angel_fish\\flipped resized Pomacanthusimperatoradult3.xml\n",
      "Image:C:\\Users\\Hadrien\\Desktop\\Data Science\\Projects\\NemoDetection\\Tensorflow\\Images_Data\\emperor_angel_fish\\flipped resized Pomacanthusimperatoradult4.jpeg -> Annotation:C:/Users/Hadrien/Desktop/Data Science/Projects/NemoDetection/Tensorflow/Images_Data/emperor_angel_fish\\flipped resized Pomacanthusimperatoradult4.xml\n",
      "Image:C:\\Users\\Hadrien\\Desktop\\Data Science\\Projects\\NemoDetection\\Tensorflow\\Images_Data\\emperor_angel_fish\\flipped resized Pomacanthusimperatoradult5.jpeg -> Annotation:C:/Users/Hadrien/Desktop/Data Science/Projects/NemoDetection/Tensorflow/Images_Data/emperor_angel_fish\\flipped resized Pomacanthusimperatoradult5.xml\n",
      "Image:C:\\Users\\Hadrien\\Desktop\\Data Science\\Projects\\NemoDetection\\Tensorflow\\Images_Data\\emperor_angel_fish\\flipped resized Pomacanthusimperatoradult10.jpeg -> Annotation:C:/Users/Hadrien/Desktop/Data Science/Projects/NemoDetection/Tensorflow/Images_Data/emperor_angel_fish\\flipped resized Pomacanthusimperatoradult10.xml\n",
      "Image:C:\\Users\\Hadrien\\Desktop\\Data Science\\Projects\\NemoDetection\\Tensorflow\\Images_Data\\emperor_angel_fish\\flipped resized Pomacanthusimperatoradult14.jpeg -> Annotation:C:/Users/Hadrien/Desktop/Data Science/Projects/NemoDetection/Tensorflow/Images_Data/emperor_angel_fish\\flipped resized Pomacanthusimperatoradult14.xml\n",
      "Image:C:\\Users\\Hadrien\\Desktop\\Data Science\\Projects\\NemoDetection\\Tensorflow\\Images_Data\\emperor_angel_fish\\flipped resized Pomacanthusimperatoradult15.jpeg -> Annotation:C:/Users/Hadrien/Desktop/Data Science/Projects/NemoDetection/Tensorflow/Images_Data/emperor_angel_fish\\flipped resized Pomacanthusimperatoradult15.xml\n",
      "Image:C:\\Users\\Hadrien\\Desktop\\Data Science\\Projects\\NemoDetection\\Tensorflow\\Images_Data\\emperor_angel_fish\\flipped resized Pomacanthusimperatoradult20.jpeg -> Annotation:C:/Users/Hadrien/Desktop/Data Science/Projects/NemoDetection/Tensorflow/Images_Data/emperor_angel_fish\\flipped resized Pomacanthusimperatoradult20.xml\n",
      "Image:C:\\Users\\Hadrien\\Desktop\\Data Science\\Projects\\NemoDetection\\Tensorflow\\Images_Data\\emperor_angel_fish\\flipped resized Pomacanthusimperatoradult23.jpeg -> Annotation:C:/Users/Hadrien/Desktop/Data Science/Projects/NemoDetection/Tensorflow/Images_Data/emperor_angel_fish\\flipped resized Pomacanthusimperatoradult23.xml\n",
      "Image:C:\\Users\\Hadrien\\Desktop\\Data Science\\Projects\\NemoDetection\\Tensorflow\\Images_Data\\emperor_angel_fish\\flipped resized Pomacanthusimperatoradult33.jpeg -> Annotation:C:/Users/Hadrien/Desktop/Data Science/Projects/NemoDetection/Tensorflow/Images_Data/emperor_angel_fish\\flipped resized Pomacanthusimperatoradult33.xml\n",
      "Image:C:\\Users\\Hadrien\\Desktop\\Data Science\\Projects\\NemoDetection\\Tensorflow\\Images_Data\\emperor_angel_fish\\flipped resized Pomacanthusimperatoradult35.jpeg -> Annotation:C:/Users/Hadrien/Desktop/Data Science/Projects/NemoDetection/Tensorflow/Images_Data/emperor_angel_fish\\flipped resized Pomacanthusimperatoradult35.xml\n",
      "Image:C:\\Users\\Hadrien\\Desktop\\Data Science\\Projects\\NemoDetection\\Tensorflow\\Images_Data\\emperor_angel_fish\\flipped resized Pomacanthusimperatoradult44.jpeg -> Annotation:C:/Users/Hadrien/Desktop/Data Science/Projects/NemoDetection/Tensorflow/Images_Data/emperor_angel_fish\\flipped resized Pomacanthusimperatoradult44.xml\n",
      "Image:C:\\Users\\Hadrien\\Desktop\\Data Science\\Projects\\NemoDetection\\Tensorflow\\Images_Data\\emperor_angel_fish\\flipped resized Pomacanthusimperatoradult45.jpeg -> Annotation:C:/Users/Hadrien/Desktop/Data Science/Projects/NemoDetection/Tensorflow/Images_Data/emperor_angel_fish\\flipped resized Pomacanthusimperatoradult45.xml\n",
      "Image:C:\\Users\\Hadrien\\Desktop\\Data Science\\Projects\\NemoDetection\\Tensorflow\\Images_Data\\emperor_angel_fish\\flipped resized Pomacanthusimperatoradult3.jpeg -> Annotation:C:/Users/Hadrien/Desktop/Data Science/Projects/NemoDetection/Tensorflow/Images_Data/emperor_angel_fish\\flipped resized Pomacanthusimperatoradult3.xml\n",
      "Image:C:\\Users\\Hadrien\\Desktop\\Data Science\\Projects\\NemoDetection\\Tensorflow\\Images_Data\\emperor_angel_fish\\flipped resized Pomacanthusimperatoradult4.jpeg -> Annotation:C:/Users/Hadrien/Desktop/Data Science/Projects/NemoDetection/Tensorflow/Images_Data/emperor_angel_fish\\flipped resized Pomacanthusimperatoradult4.xml\n",
      "Image:C:\\Users\\Hadrien\\Desktop\\Data Science\\Projects\\NemoDetection\\Tensorflow\\Images_Data\\emperor_angel_fish\\flipped resized Pomacanthusimperatoradult5.jpeg -> Annotation:C:/Users/Hadrien/Desktop/Data Science/Projects/NemoDetection/Tensorflow/Images_Data/emperor_angel_fish\\flipped resized Pomacanthusimperatoradult5.xml\n",
      "Image:C:\\Users\\Hadrien\\Desktop\\Data Science\\Projects\\NemoDetection\\Tensorflow\\Images_Data\\emperor_angel_fish\\flipped resized Pomacanthusimperatoradult10.jpeg -> Annotation:C:/Users/Hadrien/Desktop/Data Science/Projects/NemoDetection/Tensorflow/Images_Data/emperor_angel_fish\\flipped resized Pomacanthusimperatoradult10.xml\n",
      "Image:C:\\Users\\Hadrien\\Desktop\\Data Science\\Projects\\NemoDetection\\Tensorflow\\Images_Data\\emperor_angel_fish\\flipped resized Pomacanthusimperatoradult15.jpeg -> Annotation:C:/Users/Hadrien/Desktop/Data Science/Projects/NemoDetection/Tensorflow/Images_Data/emperor_angel_fish\\flipped resized Pomacanthusimperatoradult15.xml\n",
      "Image:C:\\Users\\Hadrien\\Desktop\\Data Science\\Projects\\NemoDetection\\Tensorflow\\Images_Data\\emperor_angel_fish\\flipped resized Pomacanthusimperatoradult14.jpeg -> Annotation:C:/Users/Hadrien/Desktop/Data Science/Projects/NemoDetection/Tensorflow/Images_Data/emperor_angel_fish\\flipped resized Pomacanthusimperatoradult14.xml\n",
      "Image:C:\\Users\\Hadrien\\Desktop\\Data Science\\Projects\\NemoDetection\\Tensorflow\\Images_Data\\emperor_angel_fish\\flipped resized Pomacanthusimperatoradult0.jpeg -> Annotation:C:/Users/Hadrien/Desktop/Data Science/Projects/NemoDetection/Tensorflow/Images_Data/emperor_angel_fish\\flipped resized Pomacanthusimperatoradult0.xml\n",
      "Image:C:\\Users\\Hadrien\\Desktop\\Data Science\\Projects\\NemoDetection\\Tensorflow\\Images_Data\\emperor_angel_fish\\flipped resized Pomacanthusimperatoradult20.jpeg -> Annotation:C:/Users/Hadrien/Desktop/Data Science/Projects/NemoDetection/Tensorflow/Images_Data/emperor_angel_fish\\flipped resized Pomacanthusimperatoradult20.xml\n",
      "Image:C:\\Users\\Hadrien\\Desktop\\Data Science\\Projects\\NemoDetection\\Tensorflow\\Images_Data\\emperor_angel_fish\\flipped resized Pomacanthusimperatoradult23.jpeg -> Annotation:C:/Users/Hadrien/Desktop/Data Science/Projects/NemoDetection/Tensorflow/Images_Data/emperor_angel_fish\\flipped resized Pomacanthusimperatoradult23.xml\n",
      "Image:C:\\Users\\Hadrien\\Desktop\\Data Science\\Projects\\NemoDetection\\Tensorflow\\Images_Data\\emperor_angel_fish\\flipped resized Pomacanthusimperatoradult33.jpeg -> Annotation:C:/Users/Hadrien/Desktop/Data Science/Projects/NemoDetection/Tensorflow/Images_Data/emperor_angel_fish\\flipped resized Pomacanthusimperatoradult33.xml\n",
      "Image:C:\\Users\\Hadrien\\Desktop\\Data Science\\Projects\\NemoDetection\\Tensorflow\\Images_Data\\emperor_angel_fish\\flipped resized Pomacanthusimperatoradult35.jpeg -> Annotation:C:/Users/Hadrien/Desktop/Data Science/Projects/NemoDetection/Tensorflow/Images_Data/emperor_angel_fish\\flipped resized Pomacanthusimperatoradult35.xml\n",
      "Image:C:\\Users\\Hadrien\\Desktop\\Data Science\\Projects\\NemoDetection\\Tensorflow\\Images_Data\\emperor_angel_fish\\flipped resized Pomacanthusimperatoradult44.jpeg -> Annotation:C:/Users/Hadrien/Desktop/Data Science/Projects/NemoDetection/Tensorflow/Images_Data/emperor_angel_fish\\flipped resized Pomacanthusimperatoradult44.xml\n",
      "Image:C:\\Users\\Hadrien\\Desktop\\Data Science\\Projects\\NemoDetection\\Tensorflow\\Images_Data\\emperor_angel_fish\\flipped resized Pomacanthusimperatoradult56.jpeg -> Annotation:C:/Users/Hadrien/Desktop/Data Science/Projects/NemoDetection/Tensorflow/Images_Data/emperor_angel_fish\\flipped resized Pomacanthusimperatoradult56.xml\n",
      "Image:C:\\Users\\Hadrien\\Desktop\\Data Science\\Projects\\NemoDetection\\Tensorflow\\Images_Data\\emperor_angel_fish\\flipped resized Pomacanthusimperatoradult65.jpeg -> Annotation:C:/Users/Hadrien/Desktop/Data Science/Projects/NemoDetection/Tensorflow/Images_Data/emperor_angel_fish\\flipped resized Pomacanthusimperatoradult65.xml\n",
      "Image:C:\\Users\\Hadrien\\Desktop\\Data Science\\Projects\\NemoDetection\\Tensorflow\\Images_Data\\emperor_angel_fish\\flipped resized Pomacanthusimperatoradult73.jpeg -> Annotation:C:/Users/Hadrien/Desktop/Data Science/Projects/NemoDetection/Tensorflow/Images_Data/emperor_angel_fish\\flipped resized Pomacanthusimperatoradult73.xml\n",
      "Image:C:\\Users\\Hadrien\\Desktop\\Data Science\\Projects\\NemoDetection\\Tensorflow\\Images_Data\\emperor_angel_fish\\flipped resized Pomacanthusimperatoradult78.jpeg -> Annotation:C:/Users/Hadrien/Desktop/Data Science/Projects/NemoDetection/Tensorflow/Images_Data/emperor_angel_fish\\flipped resized Pomacanthusimperatoradult78.xml\n",
      "Image:C:\\Users\\Hadrien\\Desktop\\Data Science\\Projects\\NemoDetection\\Tensorflow\\Images_Data\\emperor_angel_fish\\flipped resized Pomacanthusimperatoradult85.jpeg -> Annotation:C:/Users/Hadrien/Desktop/Data Science/Projects/NemoDetection/Tensorflow/Images_Data/emperor_angel_fish\\flipped resized Pomacanthusimperatoradult85.xml\n",
      "Image:C:\\Users\\Hadrien\\Desktop\\Data Science\\Projects\\NemoDetection\\Tensorflow\\Images_Data\\emperor_angel_fish\\flipped resized Pomacanthusimperatoradult90.jpeg -> Annotation:C:/Users/Hadrien/Desktop/Data Science/Projects/NemoDetection/Tensorflow/Images_Data/emperor_angel_fish\\flipped resized Pomacanthusimperatoradult90.xml\n",
      "Image:C:\\Users\\Hadrien\\Desktop\\Data Science\\Projects\\NemoDetection\\Tensorflow\\Images_Data\\emperor_angel_fish\\gray resized Pomacanthusimperatoradult0.jpeg -> Annotation:C:/Users/Hadrien/Desktop/Data Science/Projects/NemoDetection/Tensorflow/Images_Data/emperor_angel_fish\\gray resized Pomacanthusimperatoradult0.xml\n",
      "Image:C:\\Users\\Hadrien\\Desktop\\Data Science\\Projects\\NemoDetection\\Tensorflow\\Images_Data\\emperor_angel_fish\\gray resized Pomacanthusimperatoradult3.jpeg -> Annotation:C:/Users/Hadrien/Desktop/Data Science/Projects/NemoDetection/Tensorflow/Images_Data/emperor_angel_fish\\gray resized Pomacanthusimperatoradult3.xml\n",
      "Image:C:\\Users\\Hadrien\\Desktop\\Data Science\\Projects\\NemoDetection\\Tensorflow\\Images_Data\\emperor_angel_fish\\gray resized Pomacanthusimperatoradult4.jpeg -> Annotation:C:/Users/Hadrien/Desktop/Data Science/Projects/NemoDetection/Tensorflow/Images_Data/emperor_angel_fish\\gray resized Pomacanthusimperatoradult4.xml\n",
      "Image:C:\\Users\\Hadrien\\Desktop\\Data Science\\Projects\\NemoDetection\\Tensorflow\\Images_Data\\emperor_angel_fish\\gray resized Pomacanthusimperatoradult10.jpeg -> Annotation:C:/Users/Hadrien/Desktop/Data Science/Projects/NemoDetection/Tensorflow/Images_Data/emperor_angel_fish\\gray resized Pomacanthusimperatoradult10.xml\n",
      "Image:C:\\Users\\Hadrien\\Desktop\\Data Science\\Projects\\NemoDetection\\Tensorflow\\Images_Data\\emperor_angel_fish\\gray resized Pomacanthusimperatoradult14.jpeg -> Annotation:C:/Users/Hadrien/Desktop/Data Science/Projects/NemoDetection/Tensorflow/Images_Data/emperor_angel_fish\\gray resized Pomacanthusimperatoradult14.xml\n",
      "Image:C:\\Users\\Hadrien\\Desktop\\Data Science\\Projects\\NemoDetection\\Tensorflow\\Images_Data\\emperor_angel_fish\\gray resized Pomacanthusimperatoradult15.jpeg -> Annotation:C:/Users/Hadrien/Desktop/Data Science/Projects/NemoDetection/Tensorflow/Images_Data/emperor_angel_fish\\gray resized Pomacanthusimperatoradult15.xml\n",
      "Image:C:\\Users\\Hadrien\\Desktop\\Data Science\\Projects\\NemoDetection\\Tensorflow\\Images_Data\\emperor_angel_fish\\resized Pomacanthusimperatoradult0.jpeg -> Annotation:C:/Users/Hadrien/Desktop/Data Science/Projects/NemoDetection/Tensorflow/Images_Data/emperor_angel_fish\\resized Pomacanthusimperatoradult0.xml\n",
      "Image:C:\\Users\\Hadrien\\Desktop\\Data Science\\Projects\\NemoDetection\\Tensorflow\\Images_Data\\emperor_angel_fish\\resized Pomacanthusimperatoradult3.jpeg -> Annotation:C:/Users/Hadrien/Desktop/Data Science/Projects/NemoDetection/Tensorflow/Images_Data/emperor_angel_fish\\resized Pomacanthusimperatoradult3.xml\n",
      "Image:C:\\Users\\Hadrien\\Desktop\\Data Science\\Projects\\NemoDetection\\Tensorflow\\Images_Data\\emperor_angel_fish\\resized Pomacanthusimperatoradult4.jpeg -> Annotation:C:/Users/Hadrien/Desktop/Data Science/Projects/NemoDetection/Tensorflow/Images_Data/emperor_angel_fish\\resized Pomacanthusimperatoradult4.xml\n",
      "Image:C:\\Users\\Hadrien\\Desktop\\Data Science\\Projects\\NemoDetection\\Tensorflow\\Images_Data\\emperor_angel_fish\\resized Pomacanthusimperatoradult5.jpeg -> Annotation:C:/Users/Hadrien/Desktop/Data Science/Projects/NemoDetection/Tensorflow/Images_Data/emperor_angel_fish\\resized Pomacanthusimperatoradult5.xml\n",
      "Image:C:\\Users\\Hadrien\\Desktop\\Data Science\\Projects\\NemoDetection\\Tensorflow\\Images_Data\\emperor_angel_fish\\resized Pomacanthusimperatoradult10.jpeg -> Annotation:C:/Users/Hadrien/Desktop/Data Science/Projects/NemoDetection/Tensorflow/Images_Data/emperor_angel_fish\\resized Pomacanthusimperatoradult10.xml\n",
      "Image:C:\\Users\\Hadrien\\Desktop\\Data Science\\Projects\\NemoDetection\\Tensorflow\\Images_Data\\emperor_angel_fish\\resized Pomacanthusimperatoradult14.jpeg -> Annotation:C:/Users/Hadrien/Desktop/Data Science/Projects/NemoDetection/Tensorflow/Images_Data/emperor_angel_fish\\resized Pomacanthusimperatoradult14.xml\n",
      "Image:C:\\Users\\Hadrien\\Desktop\\Data Science\\Projects\\NemoDetection\\Tensorflow\\Images_Data\\emperor_angel_fish\\resized Pomacanthusimperatoradult15.jpeg -> Annotation:C:/Users/Hadrien/Desktop/Data Science/Projects/NemoDetection/Tensorflow/Images_Data/emperor_angel_fish\\resized Pomacanthusimperatoradult15.xml\n",
      "Image:C:\\Users\\Hadrien\\Desktop\\Data Science\\Projects\\NemoDetection\\Tensorflow\\Images_Data\\emperor_angel_fish\\resized Pomacanthusimperatoradult20.jpeg -> Annotation:C:/Users/Hadrien/Desktop/Data Science/Projects/NemoDetection/Tensorflow/Images_Data/emperor_angel_fish\\resized Pomacanthusimperatoradult20.xml\n",
      "Image:C:\\Users\\Hadrien\\Desktop\\Data Science\\Projects\\NemoDetection\\Tensorflow\\Images_Data\\emperor_angel_fish\\resized Pomacanthusimperatoradult27.jpeg -> Annotation:C:/Users/Hadrien/Desktop/Data Science/Projects/NemoDetection/Tensorflow/Images_Data/emperor_angel_fish\\resized Pomacanthusimperatoradult27.xml\n",
      "Image:C:\\Users\\Hadrien\\Desktop\\Data Science\\Projects\\NemoDetection\\Tensorflow\\Images_Data\\emperor_angel_fish\\resized Pomacanthusimperatoradult28.jpeg -> Annotation:C:/Users/Hadrien/Desktop/Data Science/Projects/NemoDetection/Tensorflow/Images_Data/emperor_angel_fish\\resized Pomacanthusimperatoradult28.xml\n",
      "Image:C:\\Users\\Hadrien\\Desktop\\Data Science\\Projects\\NemoDetection\\Tensorflow\\Images_Data\\emperor_angel_fish\\resized Pomacanthusimperatoradult33.jpeg -> Annotation:C:/Users/Hadrien/Desktop/Data Science/Projects/NemoDetection/Tensorflow/Images_Data/emperor_angel_fish\\resized Pomacanthusimperatoradult33.xml\n",
      "Image:C:\\Users\\Hadrien\\Desktop\\Data Science\\Projects\\NemoDetection\\Tensorflow\\Images_Data\\emperor_angel_fish\\resized Pomacanthusimperatoradult34.jpeg -> Annotation:C:/Users/Hadrien/Desktop/Data Science/Projects/NemoDetection/Tensorflow/Images_Data/emperor_angel_fish\\resized Pomacanthusimperatoradult34.xml\n",
      "Image:C:\\Users\\Hadrien\\Desktop\\Data Science\\Projects\\NemoDetection\\Tensorflow\\Images_Data\\emperor_angel_fish\\resized Pomacanthusimperatoradult37.jpeg -> Annotation:C:/Users/Hadrien/Desktop/Data Science/Projects/NemoDetection/Tensorflow/Images_Data/emperor_angel_fish\\resized Pomacanthusimperatoradult37.xml\n",
      "Image:C:\\Users\\Hadrien\\Desktop\\Data Science\\Projects\\NemoDetection\\Tensorflow\\Images_Data\\emperor_angel_fish\\resized Pomacanthusimperatoradult44.jpeg -> Annotation:C:/Users/Hadrien/Desktop/Data Science/Projects/NemoDetection/Tensorflow/Images_Data/emperor_angel_fish\\resized Pomacanthusimperatoradult44.xml\n",
      "Image:C:\\Users\\Hadrien\\Desktop\\Data Science\\Projects\\NemoDetection\\Tensorflow\\Images_Data\\emperor_angel_fish\\rotated resized Pomacanthusimperatoradult37.jpeg -> Annotation:C:/Users/Hadrien/Desktop/Data Science/Projects/NemoDetection/Tensorflow/Images_Data/emperor_angel_fish\\rotated resized Pomacanthusimperatoradult37.xml\n",
      "Image:C:\\Users\\Hadrien\\Desktop\\Data Science\\Projects\\NemoDetection\\Tensorflow\\Images_Data\\grouper_fish\\flipped resized Epinephelusmarginatus61.jpeg -> Annotation:C:/Users/Hadrien/Desktop/Data Science/Projects/NemoDetection/Tensorflow/Images_Data/grouper_fish\\flipped resized Epinephelusmarginatus61.xml\n",
      "Image:C:\\Users\\Hadrien\\Desktop\\Data Science\\Projects\\NemoDetection\\Tensorflow\\Images_Data\\grouper_fish\\flipped resized Epinephelusmarginatus90.jpeg -> Annotation:C:/Users/Hadrien/Desktop/Data Science/Projects/NemoDetection/Tensorflow/Images_Data/grouper_fish\\flipped resized Epinephelusmarginatus90.xml\n",
      "Image:C:\\Users\\Hadrien\\Desktop\\Data Science\\Projects\\NemoDetection\\Tensorflow\\Images_Data\\grouper_fish\\flipped resized Epinephelusmarginatus91.jpeg -> Annotation:C:/Users/Hadrien/Desktop/Data Science/Projects/NemoDetection/Tensorflow/Images_Data/grouper_fish\\flipped resized Epinephelusmarginatus91.xml\n",
      "Image:C:\\Users\\Hadrien\\Desktop\\Data Science\\Projects\\NemoDetection\\Tensorflow\\Images_Data\\grouper_fish\\flipped resized Epinephelusmarginatus93.jpeg -> Annotation:C:/Users/Hadrien/Desktop/Data Science/Projects/NemoDetection/Tensorflow/Images_Data/grouper_fish\\flipped resized Epinephelusmarginatus93.xml\n",
      "Image:C:\\Users\\Hadrien\\Desktop\\Data Science\\Projects\\NemoDetection\\Tensorflow\\Images_Data\\grouper_fish\\gray resized Epinephelusmarginatus1.jpeg -> Annotation:C:/Users/Hadrien/Desktop/Data Science/Projects/NemoDetection/Tensorflow/Images_Data/grouper_fish\\gray resized Epinephelusmarginatus1.xml\n",
      "Image:C:\\Users\\Hadrien\\Desktop\\Data Science\\Projects\\NemoDetection\\Tensorflow\\Images_Data\\grouper_fish\\gray resized Epinephelusmarginatus9.jpeg -> Annotation:C:/Users/Hadrien/Desktop/Data Science/Projects/NemoDetection/Tensorflow/Images_Data/grouper_fish\\gray resized Epinephelusmarginatus9.xml\n",
      "Image:C:\\Users\\Hadrien\\Desktop\\Data Science\\Projects\\NemoDetection\\Tensorflow\\Images_Data\\grouper_fish\\gray resized Epinephelusmarginatus25.jpeg -> Annotation:C:/Users/Hadrien/Desktop/Data Science/Projects/NemoDetection/Tensorflow/Images_Data/grouper_fish\\gray resized Epinephelusmarginatus25.xml\n",
      "Image:C:\\Users\\Hadrien\\Desktop\\Data Science\\Projects\\NemoDetection\\Tensorflow\\Images_Data\\grouper_fish\\gray resized Epinephelusmarginatus29.jpeg -> Annotation:C:/Users/Hadrien/Desktop/Data Science/Projects/NemoDetection/Tensorflow/Images_Data/grouper_fish\\gray resized Epinephelusmarginatus29.xml\n",
      "Image:C:\\Users\\Hadrien\\Desktop\\Data Science\\Projects\\NemoDetection\\Tensorflow\\Images_Data\\grouper_fish\\gray resized Epinephelusmarginatus33.jpeg -> Annotation:C:/Users/Hadrien/Desktop/Data Science/Projects/NemoDetection/Tensorflow/Images_Data/grouper_fish\\gray resized Epinephelusmarginatus33.xml\n",
      "Image:C:\\Users\\Hadrien\\Desktop\\Data Science\\Projects\\NemoDetection\\Tensorflow\\Images_Data\\grouper_fish\\gray resized Epinephelusmarginatus42.jpeg -> Annotation:C:/Users/Hadrien/Desktop/Data Science/Projects/NemoDetection/Tensorflow/Images_Data/grouper_fish\\gray resized Epinephelusmarginatus42.xml\n",
      "Image:C:\\Users\\Hadrien\\Desktop\\Data Science\\Projects\\NemoDetection\\Tensorflow\\Images_Data\\grouper_fish\\gray resized Epinephelusmarginatus51.jpeg -> Annotation:C:/Users/Hadrien/Desktop/Data Science/Projects/NemoDetection/Tensorflow/Images_Data/grouper_fish\\gray resized Epinephelusmarginatus51.xml\n",
      "Image:C:\\Users\\Hadrien\\Desktop\\Data Science\\Projects\\NemoDetection\\Tensorflow\\Images_Data\\grouper_fish\\gray resized Epinephelusmarginatus78.jpeg -> Annotation:C:/Users/Hadrien/Desktop/Data Science/Projects/NemoDetection/Tensorflow/Images_Data/grouper_fish\\gray resized Epinephelusmarginatus78.xml\n",
      "Image:C:\\Users\\Hadrien\\Desktop\\Data Science\\Projects\\NemoDetection\\Tensorflow\\Images_Data\\grouper_fish\\gray resized Epinephelusmarginatus90.jpeg -> Annotation:C:/Users/Hadrien/Desktop/Data Science/Projects/NemoDetection/Tensorflow/Images_Data/grouper_fish\\gray resized Epinephelusmarginatus90.xml\n",
      "Image:C:\\Users\\Hadrien\\Desktop\\Data Science\\Projects\\NemoDetection\\Tensorflow\\Images_Data\\grouper_fish\\gray resized Epinephelusmarginatus91.jpeg -> Annotation:C:/Users/Hadrien/Desktop/Data Science/Projects/NemoDetection/Tensorflow/Images_Data/grouper_fish\\gray resized Epinephelusmarginatus91.xml\n",
      "Image:C:\\Users\\Hadrien\\Desktop\\Data Science\\Projects\\NemoDetection\\Tensorflow\\Images_Data\\grouper_fish\\gray resized Epinephelusmarginatus93.jpeg -> Annotation:C:/Users/Hadrien/Desktop/Data Science/Projects/NemoDetection/Tensorflow/Images_Data/grouper_fish\\gray resized Epinephelusmarginatus93.xml\n",
      "Image:C:\\Users\\Hadrien\\Desktop\\Data Science\\Projects\\NemoDetection\\Tensorflow\\Images_Data\\grouper_fish\\resized Epinephelusmarginatus8.jpeg -> Annotation:C:/Users/Hadrien/Desktop/Data Science/Projects/NemoDetection/Tensorflow/Images_Data/grouper_fish\\resized Epinephelusmarginatus8.xml\n",
      "Image:C:\\Users\\Hadrien\\Desktop\\Data Science\\Projects\\NemoDetection\\Tensorflow\\Images_Data\\grouper_fish\\resized Epinephelusmarginatus9.jpeg -> Annotation:C:/Users/Hadrien/Desktop/Data Science/Projects/NemoDetection/Tensorflow/Images_Data/grouper_fish\\resized Epinephelusmarginatus9.xml\n",
      "Image:C:\\Users\\Hadrien\\Desktop\\Data Science\\Projects\\NemoDetection\\Tensorflow\\Images_Data\\grouper_fish\\resized Epinephelusmarginatus25.jpeg -> Annotation:C:/Users/Hadrien/Desktop/Data Science/Projects/NemoDetection/Tensorflow/Images_Data/grouper_fish\\resized Epinephelusmarginatus25.xml\n",
      "Image:C:\\Users\\Hadrien\\Desktop\\Data Science\\Projects\\NemoDetection\\Tensorflow\\Images_Data\\grouper_fish\\resized Epinephelusmarginatus30.jpeg -> Annotation:C:/Users/Hadrien/Desktop/Data Science/Projects/NemoDetection/Tensorflow/Images_Data/grouper_fish\\resized Epinephelusmarginatus30.xml\n",
      "Image:C:\\Users\\Hadrien\\Desktop\\Data Science\\Projects\\NemoDetection\\Tensorflow\\Images_Data\\grouper_fish\\resized Epinephelusmarginatus31.jpeg -> Annotation:C:/Users/Hadrien/Desktop/Data Science/Projects/NemoDetection/Tensorflow/Images_Data/grouper_fish\\resized Epinephelusmarginatus31.xml\n",
      "Image:C:\\Users\\Hadrien\\Desktop\\Data Science\\Projects\\NemoDetection\\Tensorflow\\Images_Data\\grouper_fish\\resized Epinephelusmarginatus38.jpeg -> Annotation:C:/Users/Hadrien/Desktop/Data Science/Projects/NemoDetection/Tensorflow/Images_Data/grouper_fish\\resized Epinephelusmarginatus38.xml\n",
      "Image:C:\\Users\\Hadrien\\Desktop\\Data Science\\Projects\\NemoDetection\\Tensorflow\\Images_Data\\grouper_fish\\resized Epinephelusmarginatus46.jpeg -> Annotation:C:/Users/Hadrien/Desktop/Data Science/Projects/NemoDetection/Tensorflow/Images_Data/grouper_fish\\resized Epinephelusmarginatus46.xml\n",
      "Image:C:\\Users\\Hadrien\\Desktop\\Data Science\\Projects\\NemoDetection\\Tensorflow\\Images_Data\\grouper_fish\\resized Epinephelusmarginatus47.jpeg -> Annotation:C:/Users/Hadrien/Desktop/Data Science/Projects/NemoDetection/Tensorflow/Images_Data/grouper_fish\\resized Epinephelusmarginatus47.xml\n",
      "Image:C:\\Users\\Hadrien\\Desktop\\Data Science\\Projects\\NemoDetection\\Tensorflow\\Images_Data\\grouper_fish\\resized Epinephelusmarginatus49.jpeg -> Annotation:C:/Users/Hadrien/Desktop/Data Science/Projects/NemoDetection/Tensorflow/Images_Data/grouper_fish\\resized Epinephelusmarginatus49.xml\n",
      "Image:C:\\Users\\Hadrien\\Desktop\\Data Science\\Projects\\NemoDetection\\Tensorflow\\Images_Data\\grouper_fish\\resized Epinephelusmarginatus50.jpeg -> Annotation:C:/Users/Hadrien/Desktop/Data Science/Projects/NemoDetection/Tensorflow/Images_Data/grouper_fish\\resized Epinephelusmarginatus50.xml\n",
      "Image:C:\\Users\\Hadrien\\Desktop\\Data Science\\Projects\\NemoDetection\\Tensorflow\\Images_Data\\grouper_fish\\resized Epinephelusmarginatus51.jpeg -> Annotation:C:/Users/Hadrien/Desktop/Data Science/Projects/NemoDetection/Tensorflow/Images_Data/grouper_fish\\resized Epinephelusmarginatus51.xml\n",
      "Image:C:\\Users\\Hadrien\\Desktop\\Data Science\\Projects\\NemoDetection\\Tensorflow\\Images_Data\\grouper_fish\\resized Epinephelusmarginatus54.jpeg -> Annotation:C:/Users/Hadrien/Desktop/Data Science/Projects/NemoDetection/Tensorflow/Images_Data/grouper_fish\\resized Epinephelusmarginatus54.xml\n",
      "Image:C:\\Users\\Hadrien\\Desktop\\Data Science\\Projects\\NemoDetection\\Tensorflow\\Images_Data\\grouper_fish\\resized Epinephelusmarginatus59.jpeg -> Annotation:C:/Users/Hadrien/Desktop/Data Science/Projects/NemoDetection/Tensorflow/Images_Data/grouper_fish\\resized Epinephelusmarginatus59.xml\n",
      "Image:C:\\Users\\Hadrien\\Desktop\\Data Science\\Projects\\NemoDetection\\Tensorflow\\Images_Data\\grouper_fish\\resized Epinephelusmarginatus69.jpeg -> Annotation:C:/Users/Hadrien/Desktop/Data Science/Projects/NemoDetection/Tensorflow/Images_Data/grouper_fish\\resized Epinephelusmarginatus69.xml\n",
      "Image:C:\\Users\\Hadrien\\Desktop\\Data Science\\Projects\\NemoDetection\\Tensorflow\\Images_Data\\grouper_fish\\resized Epinephelusmarginatus77.jpeg -> Annotation:C:/Users/Hadrien/Desktop/Data Science/Projects/NemoDetection/Tensorflow/Images_Data/grouper_fish\\resized Epinephelusmarginatus77.xml\n",
      "Image:C:\\Users\\Hadrien\\Desktop\\Data Science\\Projects\\NemoDetection\\Tensorflow\\Images_Data\\grouper_fish\\resized Epinephelusmarginatus78.jpeg -> Annotation:C:/Users/Hadrien/Desktop/Data Science/Projects/NemoDetection/Tensorflow/Images_Data/grouper_fish\\resized Epinephelusmarginatus78.xml\n",
      "Image:C:\\Users\\Hadrien\\Desktop\\Data Science\\Projects\\NemoDetection\\Tensorflow\\Images_Data\\grouper_fish\\resized Epinephelusmarginatus82.jpeg -> Annotation:C:/Users/Hadrien/Desktop/Data Science/Projects/NemoDetection/Tensorflow/Images_Data/grouper_fish\\resized Epinephelusmarginatus82.xml\n",
      "Image:C:\\Users\\Hadrien\\Desktop\\Data Science\\Projects\\NemoDetection\\Tensorflow\\Images_Data\\grouper_fish\\resized Epinephelusmarginatus84.jpeg -> Annotation:C:/Users/Hadrien/Desktop/Data Science/Projects/NemoDetection/Tensorflow/Images_Data/grouper_fish\\resized Epinephelusmarginatus84.xml\n",
      "Image:C:\\Users\\Hadrien\\Desktop\\Data Science\\Projects\\NemoDetection\\Tensorflow\\Images_Data\\grouper_fish\\resized Epinephelusmarginatus87.jpeg -> Annotation:C:/Users/Hadrien/Desktop/Data Science/Projects/NemoDetection/Tensorflow/Images_Data/grouper_fish\\resized Epinephelusmarginatus87.xml\n",
      "Image:C:\\Users\\Hadrien\\Desktop\\Data Science\\Projects\\NemoDetection\\Tensorflow\\Images_Data\\grouper_fish\\resized Epinephelusmarginatus90.jpeg -> Annotation:C:/Users/Hadrien/Desktop/Data Science/Projects/NemoDetection/Tensorflow/Images_Data/grouper_fish\\resized Epinephelusmarginatus90.xml\n",
      "Image:C:\\Users\\Hadrien\\Desktop\\Data Science\\Projects\\NemoDetection\\Tensorflow\\Images_Data\\grouper_fish\\resized Epinephelusmarginatus91.jpeg -> Annotation:C:/Users/Hadrien/Desktop/Data Science/Projects/NemoDetection/Tensorflow/Images_Data/grouper_fish\\resized Epinephelusmarginatus91.xml\n",
      "Image:C:\\Users\\Hadrien\\Desktop\\Data Science\\Projects\\NemoDetection\\Tensorflow\\Images_Data\\grouper_fish\\resized Epinephelusmarginatus93.jpeg -> Annotation:C:/Users/Hadrien/Desktop/Data Science/Projects/NemoDetection/Tensorflow/Images_Data/grouper_fish\\resized Epinephelusmarginatus93.xml\n",
      "Image:C:\\Users\\Hadrien\\Desktop\\Data Science\\Projects\\NemoDetection\\Tensorflow\\Images_Data\\grouper_fish\\resized Epinephelusmarginatus97.jpeg -> Annotation:C:/Users/Hadrien/Desktop/Data Science/Projects/NemoDetection/Tensorflow/Images_Data/grouper_fish\\resized Epinephelusmarginatus97.xml\n",
      "Image:C:\\Users\\Hadrien\\Desktop\\Data Science\\Projects\\NemoDetection\\Tensorflow\\Images_Data\\grouper_fish\\resized Epinephelusmarginatus98.jpeg -> Annotation:C:/Users/Hadrien/Desktop/Data Science/Projects/NemoDetection/Tensorflow/Images_Data/grouper_fish\\resized Epinephelusmarginatus98.xml\n",
      "Image:C:\\Users\\Hadrien\\Desktop\\Data Science\\Projects\\NemoDetection\\Tensorflow\\Images_Data\\grouper_fish\\resized Epinephelusmarginatus99.jpeg -> Annotation:C:/Users/Hadrien/Desktop/Data Science/Projects/NemoDetection/Tensorflow/Images_Data/grouper_fish\\resized Epinephelusmarginatus99.xml\n",
      "Image:C:\\Users\\Hadrien\\Desktop\\Data Science\\Projects\\NemoDetection\\Tensorflow\\Images_Data\\juvenile_emperor_angel_fish\\flipped resized pomacanthusimperatorjuvenile1.jpeg -> Annotation:C:/Users/Hadrien/Desktop/Data Science/Projects/NemoDetection/Tensorflow/Images_Data/juvenile_emperor_angel_fish\\flipped resized pomacanthusimperatorjuvenile1.xml\n",
      "Image:C:\\Users\\Hadrien\\Desktop\\Data Science\\Projects\\NemoDetection\\Tensorflow\\Images_Data\\juvenile_emperor_angel_fish\\flipped resized pomacanthusimperatorjuvenile3.jpeg -> Annotation:C:/Users/Hadrien/Desktop/Data Science/Projects/NemoDetection/Tensorflow/Images_Data/juvenile_emperor_angel_fish\\flipped resized pomacanthusimperatorjuvenile3.xml\n",
      "Image:C:\\Users\\Hadrien\\Desktop\\Data Science\\Projects\\NemoDetection\\Tensorflow\\Images_Data\\juvenile_emperor_angel_fish\\flipped resized pomacanthusimperatorjuvenile9.png -> Annotation:C:/Users/Hadrien/Desktop/Data Science/Projects/NemoDetection/Tensorflow/Images_Data/juvenile_emperor_angel_fish\\flipped resized pomacanthusimperatorjuvenile9.xml\n",
      "Image:C:\\Users\\Hadrien\\Desktop\\Data Science\\Projects\\NemoDetection\\Tensorflow\\Images_Data\\juvenile_emperor_angel_fish\\gray resized pomacanthusimperatorjuvenile36.jpeg -> Annotation:C:/Users/Hadrien/Desktop/Data Science/Projects/NemoDetection/Tensorflow/Images_Data/juvenile_emperor_angel_fish\\gray resized pomacanthusimperatorjuvenile36.xml\n",
      "Image:C:\\Users\\Hadrien\\Desktop\\Data Science\\Projects\\NemoDetection\\Tensorflow\\Images_Data\\juvenile_emperor_angel_fish\\gray resized pomacanthusimperatorjuvenile44.jpeg -> Annotation:C:/Users/Hadrien/Desktop/Data Science/Projects/NemoDetection/Tensorflow/Images_Data/juvenile_emperor_angel_fish\\gray resized pomacanthusimperatorjuvenile44.xml\n",
      "Image:C:\\Users\\Hadrien\\Desktop\\Data Science\\Projects\\NemoDetection\\Tensorflow\\Images_Data\\juvenile_emperor_angel_fish\\gray resized pomacanthusimperatorjuvenile48.png -> Annotation:C:/Users/Hadrien/Desktop/Data Science/Projects/NemoDetection/Tensorflow/Images_Data/juvenile_emperor_angel_fish\\gray resized pomacanthusimperatorjuvenile48.xml\n",
      "Image:C:\\Users\\Hadrien\\Desktop\\Data Science\\Projects\\NemoDetection\\Tensorflow\\Images_Data\\juvenile_emperor_angel_fish\\gray resized pomacanthusimperatorjuvenile50.jpeg -> Annotation:C:/Users/Hadrien/Desktop/Data Science/Projects/NemoDetection/Tensorflow/Images_Data/juvenile_emperor_angel_fish\\gray resized pomacanthusimperatorjuvenile50.xml\n",
      "Image:C:\\Users\\Hadrien\\Desktop\\Data Science\\Projects\\NemoDetection\\Tensorflow\\Images_Data\\juvenile_emperor_angel_fish\\gray resized pomacanthusimperatorjuvenile68.jpeg -> Annotation:C:/Users/Hadrien/Desktop/Data Science/Projects/NemoDetection/Tensorflow/Images_Data/juvenile_emperor_angel_fish\\gray resized pomacanthusimperatorjuvenile68.xml\n",
      "Image:C:\\Users\\Hadrien\\Desktop\\Data Science\\Projects\\NemoDetection\\Tensorflow\\Images_Data\\juvenile_emperor_angel_fish\\gray resized pomacanthusimperatorjuvenile70.jpeg -> Annotation:C:/Users/Hadrien/Desktop/Data Science/Projects/NemoDetection/Tensorflow/Images_Data/juvenile_emperor_angel_fish\\gray resized pomacanthusimperatorjuvenile70.xml\n",
      "Image:C:\\Users\\Hadrien\\Desktop\\Data Science\\Projects\\NemoDetection\\Tensorflow\\Images_Data\\juvenile_emperor_angel_fish\\gray resized pomacanthusimperatorjuvenile71.jpeg -> Annotation:C:/Users/Hadrien/Desktop/Data Science/Projects/NemoDetection/Tensorflow/Images_Data/juvenile_emperor_angel_fish\\gray resized pomacanthusimperatorjuvenile71.xml\n",
      "Image:C:\\Users\\Hadrien\\Desktop\\Data Science\\Projects\\NemoDetection\\Tensorflow\\Images_Data\\juvenile_emperor_angel_fish\\gray resized pomacanthusimperatorjuvenile72.jpeg -> Annotation:C:/Users/Hadrien/Desktop/Data Science/Projects/NemoDetection/Tensorflow/Images_Data/juvenile_emperor_angel_fish\\gray resized pomacanthusimperatorjuvenile72.xml\n",
      "Image:C:\\Users\\Hadrien\\Desktop\\Data Science\\Projects\\NemoDetection\\Tensorflow\\Images_Data\\juvenile_emperor_angel_fish\\resized pomacanthusimperatorjuvenile3.jpeg -> Annotation:C:/Users/Hadrien/Desktop/Data Science/Projects/NemoDetection/Tensorflow/Images_Data/juvenile_emperor_angel_fish\\resized pomacanthusimperatorjuvenile3.xml\n",
      "Image:C:\\Users\\Hadrien\\Desktop\\Data Science\\Projects\\NemoDetection\\Tensorflow\\Images_Data\\juvenile_emperor_angel_fish\\resized pomacanthusimperatorjuvenile5.jpeg -> Annotation:C:/Users/Hadrien/Desktop/Data Science/Projects/NemoDetection/Tensorflow/Images_Data/juvenile_emperor_angel_fish\\resized pomacanthusimperatorjuvenile5.xml\n",
      "Image:C:\\Users\\Hadrien\\Desktop\\Data Science\\Projects\\NemoDetection\\Tensorflow\\Images_Data\\juvenile_emperor_angel_fish\\resized pomacanthusimperatorjuvenile7.jpeg -> Annotation:C:/Users/Hadrien/Desktop/Data Science/Projects/NemoDetection/Tensorflow/Images_Data/juvenile_emperor_angel_fish\\resized pomacanthusimperatorjuvenile7.xml\n",
      "Image:C:\\Users\\Hadrien\\Desktop\\Data Science\\Projects\\NemoDetection\\Tensorflow\\Images_Data\\juvenile_emperor_angel_fish\\resized pomacanthusimperatorjuvenile20.jpeg -> Annotation:C:/Users/Hadrien/Desktop/Data Science/Projects/NemoDetection/Tensorflow/Images_Data/juvenile_emperor_angel_fish\\resized pomacanthusimperatorjuvenile20.xml\n",
      "Image:C:\\Users\\Hadrien\\Desktop\\Data Science\\Projects\\NemoDetection\\Tensorflow\\Images_Data\\juvenile_emperor_angel_fish\\resized pomacanthusimperatorjuvenile24.jpeg -> Annotation:C:/Users/Hadrien/Desktop/Data Science/Projects/NemoDetection/Tensorflow/Images_Data/juvenile_emperor_angel_fish\\resized pomacanthusimperatorjuvenile24.xml\n",
      "Image:C:\\Users\\Hadrien\\Desktop\\Data Science\\Projects\\NemoDetection\\Tensorflow\\Images_Data\\juvenile_emperor_angel_fish\\resized pomacanthusimperatorjuvenile25.jpeg -> Annotation:C:/Users/Hadrien/Desktop/Data Science/Projects/NemoDetection/Tensorflow/Images_Data/juvenile_emperor_angel_fish\\resized pomacanthusimperatorjuvenile25.xml\n",
      "Image:C:\\Users\\Hadrien\\Desktop\\Data Science\\Projects\\NemoDetection\\Tensorflow\\Images_Data\\juvenile_emperor_angel_fish\\resized pomacanthusimperatorjuvenile27.jpeg -> Annotation:C:/Users/Hadrien/Desktop/Data Science/Projects/NemoDetection/Tensorflow/Images_Data/juvenile_emperor_angel_fish\\resized pomacanthusimperatorjuvenile27.xml\n",
      "Image:C:\\Users\\Hadrien\\Desktop\\Data Science\\Projects\\NemoDetection\\Tensorflow\\Images_Data\\juvenile_emperor_angel_fish\\resized pomacanthusimperatorjuvenile30.jpeg -> Annotation:C:/Users/Hadrien/Desktop/Data Science/Projects/NemoDetection/Tensorflow/Images_Data/juvenile_emperor_angel_fish\\resized pomacanthusimperatorjuvenile30.xml\n",
      "Image:C:\\Users\\Hadrien\\Desktop\\Data Science\\Projects\\NemoDetection\\Tensorflow\\Images_Data\\juvenile_emperor_angel_fish\\resized pomacanthusimperatorjuvenile34.png -> Annotation:C:/Users/Hadrien/Desktop/Data Science/Projects/NemoDetection/Tensorflow/Images_Data/juvenile_emperor_angel_fish\\resized pomacanthusimperatorjuvenile34.xml\n",
      "Image:C:\\Users\\Hadrien\\Desktop\\Data Science\\Projects\\NemoDetection\\Tensorflow\\Images_Data\\juvenile_emperor_angel_fish\\resized pomacanthusimperatorjuvenile36.jpeg -> Annotation:C:/Users/Hadrien/Desktop/Data Science/Projects/NemoDetection/Tensorflow/Images_Data/juvenile_emperor_angel_fish\\resized pomacanthusimperatorjuvenile36.xml\n",
      "Image:C:\\Users\\Hadrien\\Desktop\\Data Science\\Projects\\NemoDetection\\Tensorflow\\Images_Data\\juvenile_emperor_angel_fish\\resized pomacanthusimperatorjuvenile44.jpeg -> Annotation:C:/Users/Hadrien/Desktop/Data Science/Projects/NemoDetection/Tensorflow/Images_Data/juvenile_emperor_angel_fish\\resized pomacanthusimperatorjuvenile44.xml\n",
      "Cancel creation.\n",
      "Image:C:\\Users\\Hadrien\\Desktop\\Data Science\\Projects\\NemoDetection\\Tensorflow\\Images_Data\\juvenile_emperor_angel_fish\\resized pomacanthusimperatorjuvenile48.png -> Annotation:C:/Users/Hadrien/Desktop/Data Science/Projects/NemoDetection/Tensorflow/Images_Data/juvenile_emperor_angel_fish\\resized pomacanthusimperatorjuvenile48.xml\n",
      "Image:C:\\Users\\Hadrien\\Desktop\\Data Science\\Projects\\NemoDetection\\Tensorflow\\Images_Data\\juvenile_emperor_angel_fish\\resized pomacanthusimperatorjuvenile50.jpeg -> Annotation:C:/Users/Hadrien/Desktop/Data Science/Projects/NemoDetection/Tensorflow/Images_Data/juvenile_emperor_angel_fish\\resized pomacanthusimperatorjuvenile50.xml\n",
      "Image:C:\\Users\\Hadrien\\Desktop\\Data Science\\Projects\\NemoDetection\\Tensorflow\\Images_Data\\juvenile_emperor_angel_fish\\resized pomacanthusimperatorjuvenile57.jpeg -> Annotation:C:/Users/Hadrien/Desktop/Data Science/Projects/NemoDetection/Tensorflow/Images_Data/juvenile_emperor_angel_fish\\resized pomacanthusimperatorjuvenile57.xml\n",
      "Image:C:\\Users\\Hadrien\\Desktop\\Data Science\\Projects\\NemoDetection\\Tensorflow\\Images_Data\\juvenile_emperor_angel_fish\\resized pomacanthusimperatorjuvenile59.jpeg -> Annotation:C:/Users/Hadrien/Desktop/Data Science/Projects/NemoDetection/Tensorflow/Images_Data/juvenile_emperor_angel_fish\\resized pomacanthusimperatorjuvenile59.xml\n",
      "Image:C:\\Users\\Hadrien\\Desktop\\Data Science\\Projects\\NemoDetection\\Tensorflow\\Images_Data\\juvenile_emperor_angel_fish\\resized pomacanthusimperatorjuvenile62.jpeg -> Annotation:C:/Users/Hadrien/Desktop/Data Science/Projects/NemoDetection/Tensorflow/Images_Data/juvenile_emperor_angel_fish\\resized pomacanthusimperatorjuvenile62.xml\n",
      "Image:C:\\Users\\Hadrien\\Desktop\\Data Science\\Projects\\NemoDetection\\Tensorflow\\Images_Data\\juvenile_emperor_angel_fish\\resized pomacanthusimperatorjuvenile64.jpeg -> Annotation:C:/Users/Hadrien/Desktop/Data Science/Projects/NemoDetection/Tensorflow/Images_Data/juvenile_emperor_angel_fish\\resized pomacanthusimperatorjuvenile64.xml\n",
      "Image:C:\\Users\\Hadrien\\Desktop\\Data Science\\Projects\\NemoDetection\\Tensorflow\\Images_Data\\juvenile_emperor_angel_fish\\resized pomacanthusimperatorjuvenile66.jpeg -> Annotation:C:/Users/Hadrien/Desktop/Data Science/Projects/NemoDetection/Tensorflow/Images_Data/juvenile_emperor_angel_fish\\resized pomacanthusimperatorjuvenile66.xml\n",
      "Image:C:\\Users\\Hadrien\\Desktop\\Data Science\\Projects\\NemoDetection\\Tensorflow\\Images_Data\\juvenile_emperor_angel_fish\\resized pomacanthusimperatorjuvenile67.jpeg -> Annotation:C:/Users/Hadrien/Desktop/Data Science/Projects/NemoDetection/Tensorflow/Images_Data/juvenile_emperor_angel_fish\\resized pomacanthusimperatorjuvenile67.xml\n",
      "Image:C:\\Users\\Hadrien\\Desktop\\Data Science\\Projects\\NemoDetection\\Tensorflow\\Images_Data\\juvenile_emperor_angel_fish\\resized pomacanthusimperatorjuvenile68.jpeg -> Annotation:C:/Users/Hadrien/Desktop/Data Science/Projects/NemoDetection/Tensorflow/Images_Data/juvenile_emperor_angel_fish\\resized pomacanthusimperatorjuvenile68.xml\n",
      "Image:C:\\Users\\Hadrien\\Desktop\\Data Science\\Projects\\NemoDetection\\Tensorflow\\Images_Data\\juvenile_emperor_angel_fish\\resized pomacanthusimperatorjuvenile70.jpeg -> Annotation:C:/Users/Hadrien/Desktop/Data Science/Projects/NemoDetection/Tensorflow/Images_Data/juvenile_emperor_angel_fish\\resized pomacanthusimperatorjuvenile70.xml\n",
      "Image:C:\\Users\\Hadrien\\Desktop\\Data Science\\Projects\\NemoDetection\\Tensorflow\\Images_Data\\juvenile_emperor_angel_fish\\resized pomacanthusimperatorjuvenile71.jpeg -> Annotation:C:/Users/Hadrien/Desktop/Data Science/Projects/NemoDetection/Tensorflow/Images_Data/juvenile_emperor_angel_fish\\resized pomacanthusimperatorjuvenile71.xml\n",
      "Image:C:\\Users\\Hadrien\\Desktop\\Data Science\\Projects\\NemoDetection\\Tensorflow\\Images_Data\\juvenile_emperor_angel_fish\\resized pomacanthusimperatorjuvenile72.jpeg -> Annotation:C:/Users/Hadrien/Desktop/Data Science/Projects/NemoDetection/Tensorflow/Images_Data/juvenile_emperor_angel_fish\\resized pomacanthusimperatorjuvenile72.xml\n",
      "Image:C:\\Users\\Hadrien\\Desktop\\Data Science\\Projects\\NemoDetection\\Tensorflow\\Images_Data\\juvenile_emperor_angel_fish\\resized pomacanthusimperatorjuvenile79.jpeg -> Annotation:C:/Users/Hadrien/Desktop/Data Science/Projects/NemoDetection/Tensorflow/Images_Data/juvenile_emperor_angel_fish\\resized pomacanthusimperatorjuvenile79.xml\n",
      "Image:C:\\Users\\Hadrien\\Desktop\\Data Science\\Projects\\NemoDetection\\Tensorflow\\Images_Data\\juvenile_emperor_angel_fish\\resized pomacanthusimperatorjuvenile80.jpeg -> Annotation:C:/Users/Hadrien/Desktop/Data Science/Projects/NemoDetection/Tensorflow/Images_Data/juvenile_emperor_angel_fish\\resized pomacanthusimperatorjuvenile80.xml\n",
      "Image:C:\\Users\\Hadrien\\Desktop\\Data Science\\Projects\\NemoDetection\\Tensorflow\\Images_Data\\juvenile_emperor_angel_fish\\resized pomacanthusimperatorjuvenile82.jpeg -> Annotation:C:/Users/Hadrien/Desktop/Data Science/Projects/NemoDetection/Tensorflow/Images_Data/juvenile_emperor_angel_fish\\resized pomacanthusimperatorjuvenile82.xml\n",
      "Image:C:\\Users\\Hadrien\\Desktop\\Data Science\\Projects\\NemoDetection\\Tensorflow\\Images_Data\\juvenile_emperor_angel_fish\\resized pomacanthusimperatorjuvenile90.jpeg -> Annotation:C:/Users/Hadrien/Desktop/Data Science/Projects/NemoDetection/Tensorflow/Images_Data/juvenile_emperor_angel_fish\\resized pomacanthusimperatorjuvenile90.xml\n",
      "Image:C:\\Users\\Hadrien\\Desktop\\Data Science\\Projects\\NemoDetection\\Tensorflow\\Images_Data\\juvenile_emperor_angel_fish\\resized pomacanthusimperatorjuvenile93.jpeg -> Annotation:C:/Users/Hadrien/Desktop/Data Science/Projects/NemoDetection/Tensorflow/Images_Data/juvenile_emperor_angel_fish\\resized pomacanthusimperatorjuvenile93.xml\n",
      "Image:C:\\Users\\Hadrien\\Desktop\\Data Science\\Projects\\NemoDetection\\Tensorflow\\Images_Data\\juvenile_emperor_angel_fish\\resized pomacanthusimperatorjuvenile98.jpeg -> Annotation:C:/Users/Hadrien/Desktop/Data Science/Projects/NemoDetection/Tensorflow/Images_Data/juvenile_emperor_angel_fish\\resized pomacanthusimperatorjuvenile98.xml\n"
     ]
    }
   ],
   "source": [
    "!cd {LABELIMG_PATH} && python labelImg.py"
   ]
  },
  {
   "cell_type": "markdown",
   "metadata": {},
   "source": []
  },
  {
   "cell_type": "code",
   "execution_count": null,
   "metadata": {},
   "outputs": [],
   "source": [
    "labels = ['clown_fish', 'blue_tang', 'emperor_angel_fish', 'juvenile_emperor_angel_fish', 'grouper_fish']\n"
   ]
  }
 ],
 "metadata": {
  "kernelspec": {
   "display_name": "Python 3.8.5 ('tfod': venv)",
   "language": "python",
   "name": "python3"
  },
  "language_info": {
   "codemirror_mode": {
    "name": "ipython",
    "version": 3
   },
   "file_extension": ".py",
   "mimetype": "text/x-python",
   "name": "python",
   "nbconvert_exporter": "python",
   "pygments_lexer": "ipython3",
   "version": "3.8.5"
  },
  "orig_nbformat": 4,
  "vscode": {
   "interpreter": {
    "hash": "28497383995f1c2dc5f9a2ae3d1b23486d19ebc30d8fb0ba74aa21880363b6e5"
   }
  }
 },
 "nbformat": 4,
 "nbformat_minor": 2
}
