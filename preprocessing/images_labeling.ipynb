{
 "cells": [
  {
   "cell_type": "code",
   "execution_count": 1,
   "metadata": {},
   "outputs": [
    {
     "name": "stdout",
     "output_type": "stream",
     "text": [
      "Requirement already satisfied: opencv-python in c:\\users\\hadrien\\desktop\\data science\\projects\\nemodetection\\tfod\\lib\\site-packages (4.6.0.66)\n",
      "Requirement already satisfied: numpy>=1.14.5 in c:\\users\\hadrien\\desktop\\data science\\projects\\nemodetection\\tfod\\lib\\site-packages (from opencv-python) (1.23.2)\n"
     ]
    },
    {
     "name": "stderr",
     "output_type": "stream",
     "text": [
      "WARNING: Ignoring invalid distribution -rotobuf (c:\\users\\hadrien\\desktop\\data science\\projects\\nemodetection\\tfod\\lib\\site-packages)\n",
      "WARNING: Ignoring invalid distribution - (c:\\users\\hadrien\\desktop\\data science\\projects\\nemodetection\\tfod\\lib\\site-packages)\n",
      "WARNING: Ignoring invalid distribution -rotobuf (c:\\users\\hadrien\\desktop\\data science\\projects\\nemodetection\\tfod\\lib\\site-packages)\n",
      "WARNING: Ignoring invalid distribution - (c:\\users\\hadrien\\desktop\\data science\\projects\\nemodetection\\tfod\\lib\\site-packages)\n",
      "WARNING: Ignoring invalid distribution -rotobuf (c:\\users\\hadrien\\desktop\\data science\\projects\\nemodetection\\tfod\\lib\\site-packages)\n",
      "WARNING: Ignoring invalid distribution - (c:\\users\\hadrien\\desktop\\data science\\projects\\nemodetection\\tfod\\lib\\site-packages)\n",
      "WARNING: Ignoring invalid distribution -rotobuf (c:\\users\\hadrien\\desktop\\data science\\projects\\nemodetection\\tfod\\lib\\site-packages)\n",
      "WARNING: Ignoring invalid distribution - (c:\\users\\hadrien\\desktop\\data science\\projects\\nemodetection\\tfod\\lib\\site-packages)\n",
      "WARNING: Ignoring invalid distribution -rotobuf (c:\\users\\hadrien\\desktop\\data science\\projects\\nemodetection\\tfod\\lib\\site-packages)\n",
      "WARNING: Ignoring invalid distribution - (c:\\users\\hadrien\\desktop\\data science\\projects\\nemodetection\\tfod\\lib\\site-packages)\n",
      "WARNING: Ignoring invalid distribution -rotobuf (c:\\users\\hadrien\\desktop\\data science\\projects\\nemodetection\\tfod\\lib\\site-packages)\n",
      "WARNING: Ignoring invalid distribution - (c:\\users\\hadrien\\desktop\\data science\\projects\\nemodetection\\tfod\\lib\\site-packages)\n",
      "\n",
      "[notice] A new release of pip available: 22.2.2 -> 22.3.1\n",
      "[notice] To update, run: python.exe -m pip install --upgrade pip\n"
     ]
    }
   ],
   "source": [
    "!pip install opencv-python"
   ]
  },
  {
   "cell_type": "code",
   "execution_count": 2,
   "metadata": {},
   "outputs": [],
   "source": [
    "# Import opencv\n",
    "import cv2 \n",
    "\n",
    "# Import uuid\n",
    "import uuid\n",
    "\n",
    "# Import Operating System\n",
    "import os\n",
    "\n",
    "# Import time\n",
    "import time"
   ]
  },
  {
   "cell_type": "code",
   "execution_count": 3,
   "metadata": {},
   "outputs": [
    {
     "name": "stdout",
     "output_type": "stream",
     "text": [
      "Requirement already satisfied: pyqt5 in c:\\users\\hadrien\\desktop\\data science\\projects\\nemodetection\\tfod\\lib\\site-packages (5.15.7)\n",
      "Requirement already satisfied: lxml in c:\\users\\hadrien\\desktop\\data science\\projects\\nemodetection\\tfod\\lib\\site-packages (4.9.1)\n",
      "Requirement already satisfied: PyQt5-sip<13,>=12.11 in c:\\users\\hadrien\\desktop\\data science\\projects\\nemodetection\\tfod\\lib\\site-packages (from pyqt5) (12.11.0)\n",
      "Requirement already satisfied: PyQt5-Qt5>=5.15.0 in c:\\users\\hadrien\\desktop\\data science\\projects\\nemodetection\\tfod\\lib\\site-packages (from pyqt5) (5.15.2)\n"
     ]
    },
    {
     "name": "stderr",
     "output_type": "stream",
     "text": [
      "WARNING: Ignoring invalid distribution -rotobuf (c:\\users\\hadrien\\desktop\\data science\\projects\\nemodetection\\tfod\\lib\\site-packages)\n",
      "WARNING: Ignoring invalid distribution - (c:\\users\\hadrien\\desktop\\data science\\projects\\nemodetection\\tfod\\lib\\site-packages)\n",
      "WARNING: Ignoring invalid distribution -rotobuf (c:\\users\\hadrien\\desktop\\data science\\projects\\nemodetection\\tfod\\lib\\site-packages)\n",
      "WARNING: Ignoring invalid distribution - (c:\\users\\hadrien\\desktop\\data science\\projects\\nemodetection\\tfod\\lib\\site-packages)\n",
      "WARNING: Ignoring invalid distribution -rotobuf (c:\\users\\hadrien\\desktop\\data science\\projects\\nemodetection\\tfod\\lib\\site-packages)\n",
      "WARNING: Ignoring invalid distribution - (c:\\users\\hadrien\\desktop\\data science\\projects\\nemodetection\\tfod\\lib\\site-packages)\n",
      "WARNING: Ignoring invalid distribution -rotobuf (c:\\users\\hadrien\\desktop\\data science\\projects\\nemodetection\\tfod\\lib\\site-packages)\n",
      "WARNING: Ignoring invalid distribution - (c:\\users\\hadrien\\desktop\\data science\\projects\\nemodetection\\tfod\\lib\\site-packages)\n",
      "WARNING: Ignoring invalid distribution -rotobuf (c:\\users\\hadrien\\desktop\\data science\\projects\\nemodetection\\tfod\\lib\\site-packages)\n",
      "WARNING: Ignoring invalid distribution - (c:\\users\\hadrien\\desktop\\data science\\projects\\nemodetection\\tfod\\lib\\site-packages)\n",
      "WARNING: Ignoring invalid distribution -rotobuf (c:\\users\\hadrien\\desktop\\data science\\projects\\nemodetection\\tfod\\lib\\site-packages)\n",
      "WARNING: Ignoring invalid distribution - (c:\\users\\hadrien\\desktop\\data science\\projects\\nemodetection\\tfod\\lib\\site-packages)\n",
      "\n",
      "[notice] A new release of pip available: 22.2.2 -> 22.3.1\n",
      "[notice] To update, run: python.exe -m pip install --upgrade pip\n"
     ]
    }
   ],
   "source": [
    "!pip install --upgrade pyqt5 lxml"
   ]
  },
  {
   "cell_type": "code",
   "execution_count": 4,
   "metadata": {},
   "outputs": [],
   "source": [
    "LABELIMG_PATH = os.path.join('Tensorflow', 'labelimg')"
   ]
  },
  {
   "cell_type": "code",
   "execution_count": 5,
   "metadata": {},
   "outputs": [],
   "source": [
    "if not os.path.exists(LABELIMG_PATH):\n",
    "    !mkdir {LABELIMG_PATH}\n",
    "    !git clone https://github.com/tzutalin/labelImg {LABELIMG_PATH}"
   ]
  },
  {
   "cell_type": "code",
   "execution_count": 6,
   "metadata": {},
   "outputs": [],
   "source": [
    "if os.name == 'posix':\n",
    "    !make qt5py3\n",
    "if os.name =='nt':\n",
    "    !cd {LABELIMG_PATH} && pyrcc5 -o libs/resources.py resources.qrc"
   ]
  },
  {
   "cell_type": "code",
   "execution_count": 7,
   "metadata": {},
   "outputs": [
    {
     "name": "stdout",
     "output_type": "stream",
     "text": [
      "Image:C:\\Users\\Hadrien\\Desktop\\Data Science\\Projects\\Finding Nemo\\photos\\amphiprioninae\\REsized flipped REsized REsized REsized E2N93oBVEAEUfPx.jpg -> Annotation:C:/Users/Hadrien/Desktop/Data Science/Projects/Finding Nemo/photos/amphiprioninae\\REsized flipped REsized REsized REsized E2N93oBVEAEUfPx.xml\n",
      "Image:C:\\Users\\Hadrien\\Desktop\\Data Science\\Projects\\Finding Nemo\\photos\\amphiprioninae\\REsized flipped REsized REsized REsized E6ppC56WUAE0UAF.jpg -> Annotation:C:/Users/Hadrien/Desktop/Data Science/Projects/Finding Nemo/photos/amphiprioninae\\REsized flipped REsized REsized REsized E6ppC56WUAE0UAF.xml\n",
      "Image:C:\\Users\\Hadrien\\Desktop\\Data Science\\Projects\\Finding Nemo\\photos\\amphiprioninae\\REsized flipped REsized REsized REsized E36u5qbUUAM_Ofc.jpg -> Annotation:C:/Users/Hadrien/Desktop/Data Science/Projects/Finding Nemo/photos/amphiprioninae\\REsized flipped REsized REsized REsized E36u5qbUUAM_Ofc.xml\n",
      "Image:C:\\Users\\Hadrien\\Desktop\\Data Science\\Projects\\Finding Nemo\\photos\\amphiprioninae\\REsized flipped REsized REsized REsized E-9R2ZLWEAAMlzF.jpg -> Annotation:C:/Users/Hadrien/Desktop/Data Science/Projects/Finding Nemo/photos/amphiprioninae\\REsized flipped REsized REsized REsized E-9R2ZLWEAAMlzF.xml\n",
      "Image:C:\\Users\\Hadrien\\Desktop\\Data Science\\Projects\\Finding Nemo\\photos\\amphiprioninae\\REsized flipped REsized REsized REsized E-9R07ZX0AIuPX0.jpg -> Annotation:C:/Users/Hadrien/Desktop/Data Science/Projects/Finding Nemo/photos/amphiprioninae\\REsized flipped REsized REsized REsized E-9R07ZX0AIuPX0.xml\n",
      "Image:C:\\Users\\Hadrien\\Desktop\\Data Science\\Projects\\Finding Nemo\\photos\\amphiprioninae\\REsized flipped REsized REsized REsized EjzwDaTWsAI2C-K.jpg -> Annotation:C:/Users/Hadrien/Desktop/Data Science/Projects/Finding Nemo/photos/amphiprioninae\\REsized flipped REsized REsized REsized EjzwDaTWsAI2C-K.xml\n",
      "Image:C:\\Users\\Hadrien\\Desktop\\Data Science\\Projects\\Finding Nemo\\photos\\amphiprioninae\\REsized flipped REsized REsized REsized Eosw5vWUUAADCd3.jpg -> Annotation:C:/Users/Hadrien/Desktop/Data Science/Projects/Finding Nemo/photos/amphiprioninae\\REsized flipped REsized REsized REsized Eosw5vWUUAADCd3.xml\n",
      "Image:C:\\Users\\Hadrien\\Desktop\\Data Science\\Projects\\Finding Nemo\\photos\\amphiprioninae\\REsized flipped REsized REsized REsized Ep-st-jVEAEa8Wv.jpg -> Annotation:C:/Users/Hadrien/Desktop/Data Science/Projects/Finding Nemo/photos/amphiprioninae\\REsized flipped REsized REsized REsized Ep-st-jVEAEa8Wv.xml\n",
      "Image:C:\\Users\\Hadrien\\Desktop\\Data Science\\Projects\\Finding Nemo\\photos\\amphiprioninae\\REsized flipped REsized REsized REsized FCWqEshVIAAqidq.jpg -> Annotation:C:/Users/Hadrien/Desktop/Data Science/Projects/Finding Nemo/photos/amphiprioninae\\REsized flipped REsized REsized REsized FCWqEshVIAAqidq.xml\n",
      "Image:C:\\Users\\Hadrien\\Desktop\\Data Science\\Projects\\Finding Nemo\\photos\\amphiprioninae\\REsized flipped REsized REsized REsized FCWqEszVgAcErmw.jpg -> Annotation:C:/Users/Hadrien/Desktop/Data Science/Projects/Finding Nemo/photos/amphiprioninae\\REsized flipped REsized REsized REsized FCWqEszVgAcErmw.xml\n",
      "Image:C:\\Users\\Hadrien\\Desktop\\Data Science\\Projects\\Finding Nemo\\photos\\amphiprioninae\\REsized flipped REsized REsized REsized FCWqEszVgAcErmw.jpg -> Annotation:C:/Users/Hadrien/Desktop/Data Science/Projects/Finding Nemo/photos/amphiprioninae\\REsized flipped REsized REsized REsized FCWqEszVgAcErmw.xml\n",
      "Image:C:\\Users\\Hadrien\\Desktop\\Data Science\\Projects\\Finding Nemo\\photos\\amphiprioninae\\REsized flipped REsized REsized REsized FCWqEtQUcAMjuDI.jpg -> Annotation:C:/Users/Hadrien/Desktop/Data Science/Projects/Finding Nemo/photos/amphiprioninae\\REsized flipped REsized REsized REsized FCWqEtQUcAMjuDI.xml\n",
      "Image:C:\\Users\\Hadrien\\Desktop\\Data Science\\Projects\\Finding Nemo\\photos\\amphiprioninae\\REsized flipped REsized REsized REsized FCWqEtqVIAYlCZX.jpg -> Annotation:C:/Users/Hadrien/Desktop/Data Science/Projects/Finding Nemo/photos/amphiprioninae\\REsized flipped REsized REsized REsized FCWqEtqVIAYlCZX.xml\n",
      "Image:C:\\Users\\Hadrien\\Desktop\\Data Science\\Projects\\Finding Nemo\\photos\\amphiprioninae\\REsized flipped REsized REsized REsized FeY9elmaUAE_qbl.jpg -> Annotation:C:/Users/Hadrien/Desktop/Data Science/Projects/Finding Nemo/photos/amphiprioninae\\REsized flipped REsized REsized REsized FeY9elmaUAE_qbl.xml\n",
      "Image:C:\\Users\\Hadrien\\Desktop\\Data Science\\Projects\\Finding Nemo\\photos\\amphiprioninae\\REsized flipped REsized REsized REsized FFNpTu9XMAcs8Kz.jpg -> Annotation:C:/Users/Hadrien/Desktop/Data Science/Projects/Finding Nemo/photos/amphiprioninae\\REsized flipped REsized REsized REsized FFNpTu9XMAcs8Kz.xml\n",
      "Image:C:\\Users\\Hadrien\\Desktop\\Data Science\\Projects\\Finding Nemo\\photos\\amphiprioninae\\REsized flipped REsized REsized REsized FhhySFAXgAAXMIP.jpg -> Annotation:C:/Users/Hadrien/Desktop/Data Science/Projects/Finding Nemo/photos/amphiprioninae\\REsized flipped REsized REsized REsized FhhySFAXgAAXMIP.xml\n",
      "Image:C:\\Users\\Hadrien\\Desktop\\Data Science\\Projects\\Finding Nemo\\photos\\amphiprioninae\\REsized flipped REsized REsized REsized FhmNd7pWIAEWIj7.jpg -> Annotation:C:/Users/Hadrien/Desktop/Data Science/Projects/Finding Nemo/photos/amphiprioninae\\REsized flipped REsized REsized REsized FhmNd7pWIAEWIj7.xml\n",
      "Image:C:\\Users\\Hadrien\\Desktop\\Data Science\\Projects\\Finding Nemo\\photos\\amphiprioninae\\REsized flipped REsized REsized REsized FI6hwhSXIAU-SfE.jpg -> Annotation:C:/Users/Hadrien/Desktop/Data Science/Projects/Finding Nemo/photos/amphiprioninae\\REsized flipped REsized REsized REsized FI6hwhSXIAU-SfE.xml\n",
      "Image:C:\\Users\\Hadrien\\Desktop\\Data Science\\Projects\\Finding Nemo\\photos\\amphiprioninae\\REsized flipped REsized REsized REsized FKXCZaJWUAUuKDR.jpg -> Annotation:C:/Users/Hadrien/Desktop/Data Science/Projects/Finding Nemo/photos/amphiprioninae\\REsized flipped REsized REsized REsized FKXCZaJWUAUuKDR.xml\n",
      "Image:C:\\Users\\Hadrien\\Desktop\\Data Science\\Projects\\Finding Nemo\\photos\\amphiprioninae\\REsized flipped REsized REsized REsized FKXCZb_XoAQVxlu.jpg -> Annotation:C:/Users/Hadrien/Desktop/Data Science/Projects/Finding Nemo/photos/amphiprioninae\\REsized flipped REsized REsized REsized FKXCZb_XoAQVxlu.xml\n",
      "Image:C:\\Users\\Hadrien\\Desktop\\Data Science\\Projects\\Finding Nemo\\photos\\amphiprioninae\\REsized flipped REsized REsized REsized FLHcX3nXIAgtTZz.jpg -> Annotation:C:/Users/Hadrien/Desktop/Data Science/Projects/Finding Nemo/photos/amphiprioninae\\REsized flipped REsized REsized REsized FLHcX3nXIAgtTZz.xml\n",
      "Image:C:\\Users\\Hadrien\\Desktop\\Data Science\\Projects\\Finding Nemo\\photos\\amphiprioninae\\REsized flipped REsized REsized REsized FNKGTdvXMAI8ne6.jpg -> Annotation:C:/Users/Hadrien/Desktop/Data Science/Projects/Finding Nemo/photos/amphiprioninae\\REsized flipped REsized REsized REsized FNKGTdvXMAI8ne6.xml\n",
      "Image:C:\\Users\\Hadrien\\Desktop\\Data Science\\Projects\\Finding Nemo\\photos\\amphiprioninae\\REsized flipped REsized REsized REsized FOjbCLuWQAUeVGm.jpg -> Annotation:C:/Users/Hadrien/Desktop/Data Science/Projects/Finding Nemo/photos/amphiprioninae\\REsized flipped REsized REsized REsized FOjbCLuWQAUeVGm.xml\n",
      "Image:C:\\Users\\Hadrien\\Desktop\\Data Science\\Projects\\Finding Nemo\\photos\\amphiprioninae\\REsized flipped REsized REsized REsized FRvCsnuWQAEN3ux.jpg -> Annotation:C:/Users/Hadrien/Desktop/Data Science/Projects/Finding Nemo/photos/amphiprioninae\\REsized flipped REsized REsized REsized FRvCsnuWQAEN3ux.xml\n",
      "Image:C:\\Users\\Hadrien\\Desktop\\Data Science\\Projects\\Finding Nemo\\photos\\amphiprioninae\\REsized flipped REsized REsized REsized FVvoFLeaQAMHkV9.jpg -> Annotation:C:/Users/Hadrien/Desktop/Data Science/Projects/Finding Nemo/photos/amphiprioninae\\REsized flipped REsized REsized REsized FVvoFLeaQAMHkV9.xml\n",
      "Image:C:\\Users\\Hadrien\\Desktop\\Data Science\\Projects\\Finding Nemo\\photos\\amphiprioninae\\REsized flipped REsized REsized REsized FYmoaGNVsAAEJNe.jpg -> Annotation:C:/Users/Hadrien/Desktop/Data Science/Projects/Finding Nemo/photos/amphiprioninae\\REsized flipped REsized REsized REsized FYmoaGNVsAAEJNe.xml\n",
      "Image:C:\\Users\\Hadrien\\Desktop\\Data Science\\Projects\\Finding Nemo\\photos\\amphiprioninae\\REsized flipped REsized REsized REsized Nemo1.jpg -> Annotation:C:/Users/Hadrien/Desktop/Data Science/Projects/Finding Nemo/photos/amphiprioninae\\REsized flipped REsized REsized REsized Nemo1.xml\n",
      "Image:C:\\Users\\Hadrien\\Desktop\\Data Science\\Projects\\Finding Nemo\\photos\\amphiprioninae\\REsized flipped REsized REsized REsized resized amphiprioninae47.jpeg -> Annotation:C:/Users/Hadrien/Desktop/Data Science/Projects/Finding Nemo/photos/amphiprioninae\\REsized flipped REsized REsized REsized resized amphiprioninae47.xml\n",
      "Image:C:\\Users\\Hadrien\\Desktop\\Data Science\\Projects\\Finding Nemo\\photos\\amphiprioninae\\REsized flipped REsized REsized REsized resized amphiprioninae49.jpeg -> Annotation:C:/Users/Hadrien/Desktop/Data Science/Projects/Finding Nemo/photos/amphiprioninae\\REsized flipped REsized REsized REsized resized amphiprioninae49.xml\n",
      "Image:C:\\Users\\Hadrien\\Desktop\\Data Science\\Projects\\Finding Nemo\\photos\\amphiprioninae\\REsized flipped REsized REsized REsized resized amphiprioninae54.jpeg -> Annotation:C:/Users/Hadrien/Desktop/Data Science/Projects/Finding Nemo/photos/amphiprioninae\\REsized flipped REsized REsized REsized resized amphiprioninae54.xml\n",
      "Image:C:\\Users\\Hadrien\\Desktop\\Data Science\\Projects\\Finding Nemo\\photos\\amphiprioninae\\REsized flipped REsized REsized REsized resized amphiprioninae55.jpeg -> Annotation:C:/Users/Hadrien/Desktop/Data Science/Projects/Finding Nemo/photos/amphiprioninae\\REsized flipped REsized REsized REsized resized amphiprioninae55.xml\n",
      "Image:C:\\Users\\Hadrien\\Desktop\\Data Science\\Projects\\Finding Nemo\\photos\\amphiprioninae\\REsized flipped REsized REsized REsized resized amphiprioninae59.jpeg -> Annotation:C:/Users/Hadrien/Desktop/Data Science/Projects/Finding Nemo/photos/amphiprioninae\\REsized flipped REsized REsized REsized resized amphiprioninae59.xml\n",
      "Image:C:\\Users\\Hadrien\\Desktop\\Data Science\\Projects\\Finding Nemo\\photos\\amphiprioninae\\REsized flipped REsized REsized REsized resized amphiprioninae61.jpeg -> Annotation:C:/Users/Hadrien/Desktop/Data Science/Projects/Finding Nemo/photos/amphiprioninae\\REsized flipped REsized REsized REsized resized amphiprioninae61.xml\n",
      "Image:C:\\Users\\Hadrien\\Desktop\\Data Science\\Projects\\Finding Nemo\\photos\\amphiprioninae\\REsized flipped REsized REsized REsized resized amphiprioninae69.jpeg -> Annotation:C:/Users/Hadrien/Desktop/Data Science/Projects/Finding Nemo/photos/amphiprioninae\\REsized flipped REsized REsized REsized resized amphiprioninae69.xml\n",
      "Image:C:\\Users\\Hadrien\\Desktop\\Data Science\\Projects\\Finding Nemo\\photos\\amphiprioninae\\REsized flipped REsized REsized REsized resized amphiprioninae72.jpeg -> Annotation:C:/Users/Hadrien/Desktop/Data Science/Projects/Finding Nemo/photos/amphiprioninae\\REsized flipped REsized REsized REsized resized amphiprioninae72.xml\n",
      "Image:C:\\Users\\Hadrien\\Desktop\\Data Science\\Projects\\Finding Nemo\\photos\\amphiprioninae\\REsized flipped REsized REsized REsized resized amphiprioninae83.jpeg -> Annotation:C:/Users/Hadrien/Desktop/Data Science/Projects/Finding Nemo/photos/amphiprioninae\\REsized flipped REsized REsized REsized resized amphiprioninae83.xml\n",
      "Image:C:\\Users\\Hadrien\\Desktop\\Data Science\\Projects\\Finding Nemo\\photos\\amphiprioninae\\REsized flipped REsized REsized REsized resized amphiprioninae97.jpeg -> Annotation:C:/Users/Hadrien/Desktop/Data Science/Projects/Finding Nemo/photos/amphiprioninae\\REsized flipped REsized REsized REsized resized amphiprioninae97.xml\n",
      "Image:C:\\Users\\Hadrien\\Desktop\\Data Science\\Projects\\Finding Nemo\\photos\\amphiprioninae\\REsized REsized REsized REsized E2N93oBVEAEUfPx.jpg -> Annotation:C:/Users/Hadrien/Desktop/Data Science/Projects/Finding Nemo/photos/amphiprioninae\\REsized REsized REsized REsized E2N93oBVEAEUfPx.xml\n",
      "Image:C:\\Users\\Hadrien\\Desktop\\Data Science\\Projects\\Finding Nemo\\photos\\amphiprioninae\\REsized REsized REsized REsized E2N93oBVEAEUfPx.jpg -> Annotation:C:/Users/Hadrien/Desktop/Data Science/Projects/Finding Nemo/photos/amphiprioninae\\REsized REsized REsized REsized E2N93oBVEAEUfPx.xml\n",
      "Image:C:\\Users\\Hadrien\\Desktop\\Data Science\\Projects\\Finding Nemo\\photos\\amphiprioninae\\REsized REsized REsized REsized E2N93oBVEAEUfPx.jpg -> Annotation:C:/Users/Hadrien/Desktop/Data Science/Projects/Finding Nemo/photos/amphiprioninae\\REsized REsized REsized REsized E2N93oBVEAEUfPx.xml\n",
      "Image:C:\\Users\\Hadrien\\Desktop\\Data Science\\Projects\\Finding Nemo\\photos\\amphiprioninae\\REsized REsized REsized REsized E6ppC56WUAE0UAF.jpg -> Annotation:C:/Users/Hadrien/Desktop/Data Science/Projects/Finding Nemo/photos/amphiprioninae\\REsized REsized REsized REsized E6ppC56WUAE0UAF.xml\n",
      "Image:C:\\Users\\Hadrien\\Desktop\\Data Science\\Projects\\Finding Nemo\\photos\\amphiprioninae\\REsized REsized REsized REsized E36u5qbUUAM_Ofc.jpg -> Annotation:C:/Users/Hadrien/Desktop/Data Science/Projects/Finding Nemo/photos/amphiprioninae\\REsized REsized REsized REsized E36u5qbUUAM_Ofc.xml\n",
      "Image:C:\\Users\\Hadrien\\Desktop\\Data Science\\Projects\\Finding Nemo\\photos\\amphiprioninae\\REsized REsized REsized REsized E-9R2ZLWEAAMlzF.jpg -> Annotation:C:/Users/Hadrien/Desktop/Data Science/Projects/Finding Nemo/photos/amphiprioninae\\REsized REsized REsized REsized E-9R2ZLWEAAMlzF.xml\n",
      "Image:C:\\Users\\Hadrien\\Desktop\\Data Science\\Projects\\Finding Nemo\\photos\\amphiprioninae\\REsized REsized REsized REsized E-9R07ZX0AIuPX0.jpg -> Annotation:C:/Users/Hadrien/Desktop/Data Science/Projects/Finding Nemo/photos/amphiprioninae\\REsized REsized REsized REsized E-9R07ZX0AIuPX0.xml\n",
      "Image:C:\\Users\\Hadrien\\Desktop\\Data Science\\Projects\\Finding Nemo\\photos\\amphiprioninae\\REsized REsized REsized REsized EjzwDaTWsAI2C-K.jpg -> Annotation:C:/Users/Hadrien/Desktop/Data Science/Projects/Finding Nemo/photos/amphiprioninae\\REsized REsized REsized REsized EjzwDaTWsAI2C-K.xml\n",
      "Image:C:\\Users\\Hadrien\\Desktop\\Data Science\\Projects\\Finding Nemo\\photos\\amphiprioninae\\REsized REsized REsized REsized Eosw5vWUUAADCd3.jpg -> Annotation:C:/Users/Hadrien/Desktop/Data Science/Projects/Finding Nemo/photos/amphiprioninae\\REsized REsized REsized REsized Eosw5vWUUAADCd3.xml\n",
      "Image:C:\\Users\\Hadrien\\Desktop\\Data Science\\Projects\\Finding Nemo\\photos\\amphiprioninae\\REsized REsized REsized REsized Ep-st-jVEAEa8Wv.jpg -> Annotation:C:/Users/Hadrien/Desktop/Data Science/Projects/Finding Nemo/photos/amphiprioninae\\REsized REsized REsized REsized Ep-st-jVEAEa8Wv.xml\n",
      "Image:C:\\Users\\Hadrien\\Desktop\\Data Science\\Projects\\Finding Nemo\\photos\\amphiprioninae\\REsized REsized REsized REsized FCWqEshVIAAqidq.jpg -> Annotation:C:/Users/Hadrien/Desktop/Data Science/Projects/Finding Nemo/photos/amphiprioninae\\REsized REsized REsized REsized FCWqEshVIAAqidq.xml\n",
      "Image:C:\\Users\\Hadrien\\Desktop\\Data Science\\Projects\\Finding Nemo\\photos\\amphiprioninae\\REsized REsized REsized REsized FCWqEszVgAcErmw.jpg -> Annotation:C:/Users/Hadrien/Desktop/Data Science/Projects/Finding Nemo/photos/amphiprioninae\\REsized REsized REsized REsized FCWqEszVgAcErmw.xml\n",
      "Image:C:\\Users\\Hadrien\\Desktop\\Data Science\\Projects\\Finding Nemo\\photos\\amphiprioninae\\REsized REsized REsized REsized FCWqEtQUcAMjuDI.jpg -> Annotation:C:/Users/Hadrien/Desktop/Data Science/Projects/Finding Nemo/photos/amphiprioninae\\REsized REsized REsized REsized FCWqEtQUcAMjuDI.xml\n",
      "Image:C:\\Users\\Hadrien\\Desktop\\Data Science\\Projects\\Finding Nemo\\photos\\amphiprioninae\\REsized REsized REsized REsized FCWqEtqVIAYlCZX.jpg -> Annotation:C:/Users/Hadrien/Desktop/Data Science/Projects/Finding Nemo/photos/amphiprioninae\\REsized REsized REsized REsized FCWqEtqVIAYlCZX.xml\n",
      "Image:C:\\Users\\Hadrien\\Desktop\\Data Science\\Projects\\Finding Nemo\\photos\\amphiprioninae\\REsized REsized REsized REsized FeY9elmaUAE_qbl.jpg -> Annotation:C:/Users/Hadrien/Desktop/Data Science/Projects/Finding Nemo/photos/amphiprioninae\\REsized REsized REsized REsized FeY9elmaUAE_qbl.xml\n",
      "Image:C:\\Users\\Hadrien\\Desktop\\Data Science\\Projects\\Finding Nemo\\photos\\amphiprioninae\\REsized REsized REsized REsized FFNpTu9XMAcs8Kz.jpg -> Annotation:C:/Users/Hadrien/Desktop/Data Science/Projects/Finding Nemo/photos/amphiprioninae\\REsized REsized REsized REsized FFNpTu9XMAcs8Kz.xml\n",
      "Image:C:\\Users\\Hadrien\\Desktop\\Data Science\\Projects\\Finding Nemo\\photos\\amphiprioninae\\REsized REsized REsized REsized FhhySFAXgAAXMIP.jpg -> Annotation:C:/Users/Hadrien/Desktop/Data Science/Projects/Finding Nemo/photos/amphiprioninae\\REsized REsized REsized REsized FhhySFAXgAAXMIP.xml\n",
      "Image:C:\\Users\\Hadrien\\Desktop\\Data Science\\Projects\\Finding Nemo\\photos\\amphiprioninae\\REsized REsized REsized REsized FhmNd7pWIAEWIj7.jpg -> Annotation:C:/Users/Hadrien/Desktop/Data Science/Projects/Finding Nemo/photos/amphiprioninae\\REsized REsized REsized REsized FhmNd7pWIAEWIj7.xml\n",
      "Image:C:\\Users\\Hadrien\\Desktop\\Data Science\\Projects\\Finding Nemo\\photos\\amphiprioninae\\REsized REsized REsized REsized FI6hwhSXIAU-SfE.jpg -> Annotation:C:/Users/Hadrien/Desktop/Data Science/Projects/Finding Nemo/photos/amphiprioninae\\REsized REsized REsized REsized FI6hwhSXIAU-SfE.xml\n",
      "Image:C:\\Users\\Hadrien\\Desktop\\Data Science\\Projects\\Finding Nemo\\photos\\amphiprioninae\\REsized REsized REsized REsized FKXCZaJWUAUuKDR.jpg -> Annotation:C:/Users/Hadrien/Desktop/Data Science/Projects/Finding Nemo/photos/amphiprioninae\\REsized REsized REsized REsized FKXCZaJWUAUuKDR.xml\n",
      "Image:C:\\Users\\Hadrien\\Desktop\\Data Science\\Projects\\Finding Nemo\\photos\\amphiprioninae\\REsized REsized REsized REsized FKXCZb_XoAQVxlu.jpg -> Annotation:C:/Users/Hadrien/Desktop/Data Science/Projects/Finding Nemo/photos/amphiprioninae\\REsized REsized REsized REsized FKXCZb_XoAQVxlu.xml\n",
      "Image:C:\\Users\\Hadrien\\Desktop\\Data Science\\Projects\\Finding Nemo\\photos\\amphiprioninae\\REsized REsized REsized REsized FLHcX3nXIAgtTZz.jpg -> Annotation:C:/Users/Hadrien/Desktop/Data Science/Projects/Finding Nemo/photos/amphiprioninae\\REsized REsized REsized REsized FLHcX3nXIAgtTZz.xml\n",
      "Image:C:\\Users\\Hadrien\\Desktop\\Data Science\\Projects\\Finding Nemo\\photos\\amphiprioninae\\REsized REsized REsized REsized FNKGTdvXMAI8ne6.jpg -> Annotation:C:/Users/Hadrien/Desktop/Data Science/Projects/Finding Nemo/photos/amphiprioninae\\REsized REsized REsized REsized FNKGTdvXMAI8ne6.xml\n",
      "Image:C:\\Users\\Hadrien\\Desktop\\Data Science\\Projects\\Finding Nemo\\photos\\amphiprioninae\\REsized REsized REsized REsized FOjbCLuWQAUeVGm.jpg -> Annotation:C:/Users/Hadrien/Desktop/Data Science/Projects/Finding Nemo/photos/amphiprioninae\\REsized REsized REsized REsized FOjbCLuWQAUeVGm.xml\n",
      "Image:C:\\Users\\Hadrien\\Desktop\\Data Science\\Projects\\Finding Nemo\\photos\\amphiprioninae\\REsized REsized REsized REsized FRvCsnuWQAEN3ux.jpg -> Annotation:C:/Users/Hadrien/Desktop/Data Science/Projects/Finding Nemo/photos/amphiprioninae\\REsized REsized REsized REsized FRvCsnuWQAEN3ux.xml\n",
      "Image:C:\\Users\\Hadrien\\Desktop\\Data Science\\Projects\\Finding Nemo\\photos\\amphiprioninae\\REsized REsized REsized REsized FVvoFLeaQAMHkV9.jpg -> Annotation:C:/Users/Hadrien/Desktop/Data Science/Projects/Finding Nemo/photos/amphiprioninae\\REsized REsized REsized REsized FVvoFLeaQAMHkV9.xml\n",
      "Image:C:\\Users\\Hadrien\\Desktop\\Data Science\\Projects\\Finding Nemo\\photos\\amphiprioninae\\REsized REsized REsized REsized FYmoaGNVsAAEJNe.jpg -> Annotation:C:/Users/Hadrien/Desktop/Data Science/Projects/Finding Nemo/photos/amphiprioninae\\REsized REsized REsized REsized FYmoaGNVsAAEJNe.xml\n",
      "Image:C:\\Users\\Hadrien\\Desktop\\Data Science\\Projects\\Finding Nemo\\photos\\amphiprioninae\\REsized REsized REsized REsized Nemo1.jpg -> Annotation:C:/Users/Hadrien/Desktop/Data Science/Projects/Finding Nemo/photos/amphiprioninae\\REsized REsized REsized REsized Nemo1.xml\n",
      "Image:C:\\Users\\Hadrien\\Desktop\\Data Science\\Projects\\Finding Nemo\\photos\\amphiprioninae\\REsized REsized REsized REsized resized amphiprioninae29.jpeg -> Annotation:C:/Users/Hadrien/Desktop/Data Science/Projects/Finding Nemo/photos/amphiprioninae\\REsized REsized REsized REsized resized amphiprioninae29.xml\n",
      "Image:C:\\Users\\Hadrien\\Desktop\\Data Science\\Projects\\Finding Nemo\\photos\\amphiprioninae\\REsized REsized REsized REsized resized amphiprioninae32.jpeg -> Annotation:C:/Users/Hadrien/Desktop/Data Science/Projects/Finding Nemo/photos/amphiprioninae\\REsized REsized REsized REsized resized amphiprioninae32.xml\n",
      "Image:C:\\Users\\Hadrien\\Desktop\\Data Science\\Projects\\Finding Nemo\\photos\\amphiprioninae\\REsized REsized REsized REsized resized amphiprioninae40.jpeg -> Annotation:C:/Users/Hadrien/Desktop/Data Science/Projects/Finding Nemo/photos/amphiprioninae\\REsized REsized REsized REsized resized amphiprioninae40.xml\n",
      "Image:C:\\Users\\Hadrien\\Desktop\\Data Science\\Projects\\Finding Nemo\\photos\\amphiprioninae\\REsized REsized REsized REsized resized amphiprioninae47.jpeg -> Annotation:C:/Users/Hadrien/Desktop/Data Science/Projects/Finding Nemo/photos/amphiprioninae\\REsized REsized REsized REsized resized amphiprioninae47.xml\n",
      "Image:C:\\Users\\Hadrien\\Desktop\\Data Science\\Projects\\Finding Nemo\\photos\\amphiprioninae\\REsized REsized REsized REsized resized amphiprioninae49.jpeg -> Annotation:C:/Users/Hadrien/Desktop/Data Science/Projects/Finding Nemo/photos/amphiprioninae\\REsized REsized REsized REsized resized amphiprioninae49.xml\n",
      "Image:C:\\Users\\Hadrien\\Desktop\\Data Science\\Projects\\Finding Nemo\\photos\\amphiprioninae\\REsized REsized REsized REsized resized amphiprioninae54.jpeg -> Annotation:C:/Users/Hadrien/Desktop/Data Science/Projects/Finding Nemo/photos/amphiprioninae\\REsized REsized REsized REsized resized amphiprioninae54.xml\n",
      "Image:C:\\Users\\Hadrien\\Desktop\\Data Science\\Projects\\Finding Nemo\\photos\\amphiprioninae\\REsized REsized REsized REsized resized amphiprioninae55.jpeg -> Annotation:C:/Users/Hadrien/Desktop/Data Science/Projects/Finding Nemo/photos/amphiprioninae\\REsized REsized REsized REsized resized amphiprioninae55.xml\n",
      "Image:C:\\Users\\Hadrien\\Desktop\\Data Science\\Projects\\Finding Nemo\\photos\\amphiprioninae\\REsized REsized REsized REsized resized amphiprioninae59.jpeg -> Annotation:C:/Users/Hadrien/Desktop/Data Science/Projects/Finding Nemo/photos/amphiprioninae\\REsized REsized REsized REsized resized amphiprioninae59.xml\n",
      "Image:C:\\Users\\Hadrien\\Desktop\\Data Science\\Projects\\Finding Nemo\\photos\\amphiprioninae\\REsized REsized REsized REsized resized amphiprioninae61.jpeg -> Annotation:C:/Users/Hadrien/Desktop/Data Science/Projects/Finding Nemo/photos/amphiprioninae\\REsized REsized REsized REsized resized amphiprioninae61.xml\n",
      "Image:C:\\Users\\Hadrien\\Desktop\\Data Science\\Projects\\Finding Nemo\\photos\\amphiprioninae\\REsized REsized REsized REsized resized amphiprioninae72.jpeg -> Annotation:C:/Users/Hadrien/Desktop/Data Science/Projects/Finding Nemo/photos/amphiprioninae\\REsized REsized REsized REsized resized amphiprioninae72.xml\n",
      "Image:C:\\Users\\Hadrien\\Desktop\\Data Science\\Projects\\Finding Nemo\\photos\\amphiprioninae\\REsized REsized REsized REsized resized amphiprioninae83.jpeg -> Annotation:C:/Users/Hadrien/Desktop/Data Science/Projects/Finding Nemo/photos/amphiprioninae\\REsized REsized REsized REsized resized amphiprioninae83.xml\n"
     ]
    }
   ],
   "source": [
    "!cd {LABELIMG_PATH} && python labelImg.py"
   ]
  },
  {
   "cell_type": "markdown",
   "metadata": {},
   "source": []
  },
  {
   "cell_type": "code",
   "execution_count": null,
   "metadata": {},
   "outputs": [],
   "source": [
    "labels = ['clown_fish', 'blue_tang', 'emperor_angel_fish', 'juvenile_emperor_angel_fish', 'grouper_fish']\n"
   ]
  }
 ],
 "metadata": {
  "kernelspec": {
   "display_name": "Python 3.8.5 ('tfod': venv)",
   "language": "python",
   "name": "python3"
  },
  "language_info": {
   "codemirror_mode": {
    "name": "ipython",
    "version": 3
   },
   "file_extension": ".py",
   "mimetype": "text/x-python",
   "name": "python",
   "nbconvert_exporter": "python",
   "pygments_lexer": "ipython3",
   "version": "3.8.5"
  },
  "orig_nbformat": 4,
  "vscode": {
   "interpreter": {
    "hash": "28497383995f1c2dc5f9a2ae3d1b23486d19ebc30d8fb0ba74aa21880363b6e5"
   }
  }
 },
 "nbformat": 4,
 "nbformat_minor": 2
}
